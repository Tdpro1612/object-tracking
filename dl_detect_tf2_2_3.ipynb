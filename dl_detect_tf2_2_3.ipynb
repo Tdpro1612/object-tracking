{
  "nbformat": 4,
  "nbformat_minor": 0,
  "metadata": {
    "orig_nbformat": 2,
    "colab": {
      "name": "dl_detect_tf2_2-3.ipynb",
      "provenance": [],
      "collapsed_sections": []
    },
    "kernelspec": {
      "name": "python3",
      "display_name": "Python 3"
    }
  },
  "cells": [
    {
      "cell_type": "markdown",
      "metadata": {
        "id": "rOvvWAVTkMR7"
      },
      "source": [
        "# Lời giải cơ bản cho cuộc thi\n",
        "\n",
        "Đây là hướng dẫn một phương pháp cơ bản dùng để phát hiện hướng di chuyển (MOI) của phương tiện giao thông trong vùng trong vùng quan sát (ROI) cùng thời điểm phương tiện rời khỏi ROI.\n",
        "\n",
        "Hướng dẫn này sử dụng các mã nguồn mở từ các nguồn sau:\n",
        "\n",
        "* [TensorFlow Object Detection API](https://github.com/tensorflow/models/tree/master/research/object_detection)\n",
        "\n",
        "* [Simple online and realtime tracking](https://github.com/abewley/sort)\n",
        "\n",
        "\n",
        "\n",
        "---\n",
        "\n",
        "\n",
        "Tổng quan phương pháp cơ bản được trình bày như sau:\n",
        "* **Phát hiện phương tiện giao thông trong từng frame của video**: Sử dụng TensorFlow Object Detection API. Kết quả trả về là một danh sách các bounding box ứng với tất cả các phương tiện giao thông trong ảnh.\n",
        "* **Theo vết (multiple objects tracking)**: Dựa vào IOU (chỉ số đo đạc mức độ trùng lắp của hai bounding box), các bounding box ở các frame liên tiếp sẽ được gom nhóm và từ đó sẽ hình thành quỹ đạo di chuyển của chính phương tiện đó.\n",
        "* **Xác định hướng di chuyển (MOI) dựa trên quỹ đạo**: MOI của phương tiện sẽ được lựa chọn dựa trên độ tương đồng (ở đây sử dụng Cosine Similarity Score) giữa quỹ đạo của mỗi phương tiện và các MOI sẽ được tính toán.   \n",
        "\n",
        "**Lưu ý**: Trong lời giải cơ bản này, chỉ minh họa việc phát hiện và đếm phương tiện xe máy. Bạn cần chỉnh sửa và cải tiến để có thể đếm được tất cả phương tiện giao thông mà đề bài yêu cầu.\n"
      ]
    },
    {
      "cell_type": "markdown",
      "metadata": {
        "id": "vPs64QA1Zdov"
      },
      "source": [
        "## Imports and Setup"
      ]
    },
    {
      "cell_type": "code",
      "metadata": {
        "id": "LBZ9VWZZFUCT",
        "colab": {
          "base_uri": "https://localhost:8080/"
        },
        "outputId": "bab60986-1b83-4f91-a420-4187d9ada418"
      },
      "source": [
        "!pip install -U --pre tensorflow==\"2.2.0\""
      ],
      "execution_count": null,
      "outputs": [
        {
          "output_type": "stream",
          "text": [
            "Collecting tensorflow==2.2.0\n",
            "\u001b[?25l  Downloading https://files.pythonhosted.org/packages/3d/be/679ce5254a8c8d07470efb4a4c00345fae91f766e64f1c2aece8796d7218/tensorflow-2.2.0-cp36-cp36m-manylinux2010_x86_64.whl (516.2MB)\n",
            "\u001b[K     |████████████████████████████████| 516.2MB 27kB/s \n",
            "\u001b[?25hRequirement already satisfied, skipping upgrade: keras-preprocessing>=1.1.0 in /usr/local/lib/python3.6/dist-packages (from tensorflow==2.2.0) (1.1.2)\n",
            "Requirement already satisfied, skipping upgrade: six>=1.12.0 in /usr/local/lib/python3.6/dist-packages (from tensorflow==2.2.0) (1.15.0)\n",
            "Requirement already satisfied, skipping upgrade: opt-einsum>=2.3.2 in /usr/local/lib/python3.6/dist-packages (from tensorflow==2.2.0) (3.3.0)\n",
            "Requirement already satisfied, skipping upgrade: h5py<2.11.0,>=2.10.0 in /usr/local/lib/python3.6/dist-packages (from tensorflow==2.2.0) (2.10.0)\n",
            "Requirement already satisfied, skipping upgrade: gast==0.3.3 in /usr/local/lib/python3.6/dist-packages (from tensorflow==2.2.0) (0.3.3)\n",
            "Requirement already satisfied, skipping upgrade: protobuf>=3.8.0 in /usr/local/lib/python3.6/dist-packages (from tensorflow==2.2.0) (3.12.4)\n",
            "Collecting tensorboard<2.3.0,>=2.2.0\n",
            "\u001b[?25l  Downloading https://files.pythonhosted.org/packages/1d/74/0a6fcb206dcc72a6da9a62dd81784bfdbff5fedb099982861dc2219014fb/tensorboard-2.2.2-py3-none-any.whl (3.0MB)\n",
            "\u001b[K     |████████████████████████████████| 3.0MB 38.6MB/s \n",
            "\u001b[?25hRequirement already satisfied, skipping upgrade: termcolor>=1.1.0 in /usr/local/lib/python3.6/dist-packages (from tensorflow==2.2.0) (1.1.0)\n",
            "Requirement already satisfied, skipping upgrade: numpy<2.0,>=1.16.0 in /usr/local/lib/python3.6/dist-packages (from tensorflow==2.2.0) (1.18.5)\n",
            "Requirement already satisfied, skipping upgrade: scipy==1.4.1; python_version >= \"3\" in /usr/local/lib/python3.6/dist-packages (from tensorflow==2.2.0) (1.4.1)\n",
            "Requirement already satisfied, skipping upgrade: google-pasta>=0.1.8 in /usr/local/lib/python3.6/dist-packages (from tensorflow==2.2.0) (0.2.0)\n",
            "Requirement already satisfied, skipping upgrade: absl-py>=0.7.0 in /usr/local/lib/python3.6/dist-packages (from tensorflow==2.2.0) (0.10.0)\n",
            "Requirement already satisfied, skipping upgrade: grpcio>=1.8.6 in /usr/local/lib/python3.6/dist-packages (from tensorflow==2.2.0) (1.33.2)\n",
            "Requirement already satisfied, skipping upgrade: wheel>=0.26; python_version >= \"3\" in /usr/local/lib/python3.6/dist-packages (from tensorflow==2.2.0) (0.35.1)\n",
            "Requirement already satisfied, skipping upgrade: astunparse==1.6.3 in /usr/local/lib/python3.6/dist-packages (from tensorflow==2.2.0) (1.6.3)\n",
            "Requirement already satisfied, skipping upgrade: wrapt>=1.11.1 in /usr/local/lib/python3.6/dist-packages (from tensorflow==2.2.0) (1.12.1)\n",
            "Collecting tensorflow-estimator<2.3.0,>=2.2.0\n",
            "\u001b[?25l  Downloading https://files.pythonhosted.org/packages/a4/f5/926ae53d6a226ec0fda5208e0e581cffed895ccc89e36ba76a8e60895b78/tensorflow_estimator-2.2.0-py2.py3-none-any.whl (454kB)\n",
            "\u001b[K     |████████████████████████████████| 460kB 43.5MB/s \n",
            "\u001b[?25hRequirement already satisfied, skipping upgrade: setuptools in /usr/local/lib/python3.6/dist-packages (from protobuf>=3.8.0->tensorflow==2.2.0) (50.3.2)\n",
            "Requirement already satisfied, skipping upgrade: tensorboard-plugin-wit>=1.6.0 in /usr/local/lib/python3.6/dist-packages (from tensorboard<2.3.0,>=2.2.0->tensorflow==2.2.0) (1.7.0)\n",
            "Requirement already satisfied, skipping upgrade: markdown>=2.6.8 in /usr/local/lib/python3.6/dist-packages (from tensorboard<2.3.0,>=2.2.0->tensorflow==2.2.0) (3.3.3)\n",
            "Requirement already satisfied, skipping upgrade: google-auth-oauthlib<0.5,>=0.4.1 in /usr/local/lib/python3.6/dist-packages (from tensorboard<2.3.0,>=2.2.0->tensorflow==2.2.0) (0.4.2)\n",
            "Requirement already satisfied, skipping upgrade: requests<3,>=2.21.0 in /usr/local/lib/python3.6/dist-packages (from tensorboard<2.3.0,>=2.2.0->tensorflow==2.2.0) (2.23.0)\n",
            "Requirement already satisfied, skipping upgrade: werkzeug>=0.11.15 in /usr/local/lib/python3.6/dist-packages (from tensorboard<2.3.0,>=2.2.0->tensorflow==2.2.0) (1.0.1)\n",
            "Requirement already satisfied, skipping upgrade: google-auth<2,>=1.6.3 in /usr/local/lib/python3.6/dist-packages (from tensorboard<2.3.0,>=2.2.0->tensorflow==2.2.0) (1.17.2)\n",
            "Requirement already satisfied, skipping upgrade: importlib-metadata; python_version < \"3.8\" in /usr/local/lib/python3.6/dist-packages (from markdown>=2.6.8->tensorboard<2.3.0,>=2.2.0->tensorflow==2.2.0) (2.0.0)\n",
            "Requirement already satisfied, skipping upgrade: requests-oauthlib>=0.7.0 in /usr/local/lib/python3.6/dist-packages (from google-auth-oauthlib<0.5,>=0.4.1->tensorboard<2.3.0,>=2.2.0->tensorflow==2.2.0) (1.3.0)\n",
            "Requirement already satisfied, skipping upgrade: certifi>=2017.4.17 in /usr/local/lib/python3.6/dist-packages (from requests<3,>=2.21.0->tensorboard<2.3.0,>=2.2.0->tensorflow==2.2.0) (2020.6.20)\n",
            "Requirement already satisfied, skipping upgrade: chardet<4,>=3.0.2 in /usr/local/lib/python3.6/dist-packages (from requests<3,>=2.21.0->tensorboard<2.3.0,>=2.2.0->tensorflow==2.2.0) (3.0.4)\n",
            "Requirement already satisfied, skipping upgrade: urllib3!=1.25.0,!=1.25.1,<1.26,>=1.21.1 in /usr/local/lib/python3.6/dist-packages (from requests<3,>=2.21.0->tensorboard<2.3.0,>=2.2.0->tensorflow==2.2.0) (1.24.3)\n",
            "Requirement already satisfied, skipping upgrade: idna<3,>=2.5 in /usr/local/lib/python3.6/dist-packages (from requests<3,>=2.21.0->tensorboard<2.3.0,>=2.2.0->tensorflow==2.2.0) (2.10)\n",
            "Requirement already satisfied, skipping upgrade: rsa<5,>=3.1.4; python_version >= \"3\" in /usr/local/lib/python3.6/dist-packages (from google-auth<2,>=1.6.3->tensorboard<2.3.0,>=2.2.0->tensorflow==2.2.0) (4.6)\n",
            "Requirement already satisfied, skipping upgrade: pyasn1-modules>=0.2.1 in /usr/local/lib/python3.6/dist-packages (from google-auth<2,>=1.6.3->tensorboard<2.3.0,>=2.2.0->tensorflow==2.2.0) (0.2.8)\n",
            "Requirement already satisfied, skipping upgrade: cachetools<5.0,>=2.0.0 in /usr/local/lib/python3.6/dist-packages (from google-auth<2,>=1.6.3->tensorboard<2.3.0,>=2.2.0->tensorflow==2.2.0) (4.1.1)\n",
            "Requirement already satisfied, skipping upgrade: zipp>=0.5 in /usr/local/lib/python3.6/dist-packages (from importlib-metadata; python_version < \"3.8\"->markdown>=2.6.8->tensorboard<2.3.0,>=2.2.0->tensorflow==2.2.0) (3.4.0)\n",
            "Requirement already satisfied, skipping upgrade: oauthlib>=3.0.0 in /usr/local/lib/python3.6/dist-packages (from requests-oauthlib>=0.7.0->google-auth-oauthlib<0.5,>=0.4.1->tensorboard<2.3.0,>=2.2.0->tensorflow==2.2.0) (3.1.0)\n",
            "Requirement already satisfied, skipping upgrade: pyasn1>=0.1.3 in /usr/local/lib/python3.6/dist-packages (from rsa<5,>=3.1.4; python_version >= \"3\"->google-auth<2,>=1.6.3->tensorboard<2.3.0,>=2.2.0->tensorflow==2.2.0) (0.4.8)\n",
            "Installing collected packages: tensorboard, tensorflow-estimator, tensorflow\n",
            "  Found existing installation: tensorboard 2.3.0\n",
            "    Uninstalling tensorboard-2.3.0:\n",
            "      Successfully uninstalled tensorboard-2.3.0\n",
            "  Found existing installation: tensorflow-estimator 2.3.0\n",
            "    Uninstalling tensorflow-estimator-2.3.0:\n",
            "      Successfully uninstalled tensorflow-estimator-2.3.0\n",
            "  Found existing installation: tensorflow 2.3.0\n",
            "    Uninstalling tensorflow-2.3.0:\n",
            "      Successfully uninstalled tensorflow-2.3.0\n",
            "Successfully installed tensorboard-2.2.2 tensorflow-2.2.0 tensorflow-estimator-2.2.0\n"
          ],
          "name": "stdout"
        }
      ]
    },
    {
      "cell_type": "markdown",
      "metadata": {
        "id": "r4YF0EnPMVFA"
      },
      "source": [
        "# Cấu hình thư mục lưu trữ dữ liệu\n",
        "\n",
        "Hướng dẫn này được chạy trên [Google Colab](https://colab.research.google.com/) (xem phần [Colab FAQ](https://research.google.com/colaboratory/faq.html) để biết thêm thông tin cần lưu ý)\n",
        "\n",
        "Đoạn chương trình sau cấu hình đường dẫn thư mục Google Drive của bạn để thuận tiện cho việc chạy thí nghiệm nhiều lần và lưu trữ dữ liệu."
      ]
    },
    {
      "cell_type": "code",
      "metadata": {
        "id": "Np9n6c2C2ymd"
      },
      "source": [
        "https://drive.google.com/drive/folders/1olncYMTJocpEXh3l12VVbHLDjipAtKPo?usp=sharing"
      ],
      "execution_count": null,
      "outputs": []
    },
    {
      "cell_type": "code",
      "metadata": {
        "id": "3hynjRVJp4rC",
        "colab": {
          "base_uri": "https://localhost:8080/"
        },
        "outputId": "6b5d150d-58e5-4daa-f0cd-6b1cbbbcd159"
      },
      "source": [
        "\n",
        "# Mount \"My Drive\" into /content/drive\n",
        "from google.colab import drive\n",
        "\n",
        "google_drive_dir = 'VietAI'  # @param\n",
        "\n",
        "drive.mount('/content/drive')\n",
        "\n",
        "mount_point = '/content/drive/My Drive/{}'.format(google_drive_dir)\n",
        "\n",
        "# Change the root directory to your mount_point\n",
        "#% cd '$mount_point'"
      ],
      "execution_count": null,
      "outputs": [
        {
          "output_type": "stream",
          "text": [
            "Mounted at /content/drive\n"
          ],
          "name": "stdout"
        }
      ]
    },
    {
      "cell_type": "markdown",
      "metadata": {
        "id": "ogDEF-0I_mCv"
      },
      "source": [
        ""
      ]
    },
    {
      "cell_type": "code",
      "metadata": {
        "id": "nrk3R2jXjF-t",
        "colab": {
          "base_uri": "https://localhost:8080/"
        },
        "outputId": "ea5830b4-0de0-46ea-f1ee-968526bfa1b9"
      },
      "source": [
        "% cd '/content'"
      ],
      "execution_count": null,
      "outputs": [
        {
          "output_type": "stream",
          "text": [
            "/content\n"
          ],
          "name": "stdout"
        }
      ]
    },
    {
      "cell_type": "code",
      "metadata": {
        "id": "oi28cqGGFWnY",
        "colab": {
          "base_uri": "https://localhost:8080/"
        },
        "outputId": "473b0e95-47d7-4996-ed4d-4f643aac0b0f"
      },
      "source": [
        "import os\n",
        "import pathlib\n",
        "\n",
        "# Clone the baseline repository \n",
        "if not pathlib.Path('ai-challenge-baseline').exists():\n",
        "  ! git clone https://github.com/hcmcaic/ai-challenge-baseline\n",
        "\n",
        "# \n",
        "#% cd ai-challenge-baseline\n"
      ],
      "execution_count": null,
      "outputs": [
        {
          "output_type": "stream",
          "text": [
            "Cloning into 'ai-challenge-baseline'...\n",
            "remote: Enumerating objects: 29, done.\u001b[K\n",
            "remote: Counting objects: 100% (29/29), done.\u001b[K\n",
            "remote: Compressing objects: 100% (21/21), done.\u001b[K\n",
            "remote: Total 40 (delta 9), reused 26 (delta 7), pack-reused 11\u001b[K\n",
            "Unpacking objects: 100% (40/40), done.\n"
          ],
          "name": "stdout"
        }
      ]
    },
    {
      "cell_type": "code",
      "metadata": {
        "id": "jp-2xDoKjE2Y",
        "colab": {
          "base_uri": "https://localhost:8080/"
        },
        "outputId": "8fec201e-878c-44b9-c294-04ba3ead0968"
      },
      "source": [
        "%cd /content"
      ],
      "execution_count": null,
      "outputs": [
        {
          "output_type": "stream",
          "text": [
            "/content\n"
          ],
          "name": "stdout"
        }
      ]
    },
    {
      "cell_type": "code",
      "metadata": {
        "id": "XY04fwDwkI8o"
      },
      "source": [
        "!rm -rf '/content/ai-challenge-baseline/models'"
      ],
      "execution_count": null,
      "outputs": []
    },
    {
      "cell_type": "code",
      "metadata": {
        "id": "k9U9xVgBmBRc",
        "colab": {
          "base_uri": "https://localhost:8080/"
        },
        "outputId": "f40d7052-3d58-4a47-c9c5-08ca7dfcf1ca"
      },
      "source": [
        "# Clone the tensorflow models repository if it doesn't already exist\n",
        "if \"models\" in pathlib.Path.cwd().parts:\n",
        "  while \"models\" in pathlib.Path.cwd().parts:\n",
        "    os.chdir('..')\n",
        "elif not pathlib.Path('models').exists():\n",
        "  !git clone --depth 1 https://github.com/tensorflow/models"
      ],
      "execution_count": null,
      "outputs": [
        {
          "output_type": "stream",
          "text": [
            "Cloning into 'models'...\n",
            "remote: Enumerating objects: 2301, done.\u001b[K\n",
            "remote: Counting objects: 100% (2301/2301), done.\u001b[K\n",
            "remote: Compressing objects: 100% (1993/1993), done.\u001b[K\n",
            "remote: Total 2301 (delta 564), reused 940 (delta 285), pack-reused 0\u001b[K\n",
            "Receiving objects: 100% (2301/2301), 30.57 MiB | 5.59 MiB/s, done.\n",
            "Resolving deltas: 100% (564/564), done.\n"
          ],
          "name": "stdout"
        }
      ]
    },
    {
      "cell_type": "code",
      "metadata": {
        "id": "aRtdC0VR-o9m",
        "colab": {
          "base_uri": "https://localhost:8080/"
        },
        "outputId": "2667fb4f-8c1d-424a-e39c-155ee3922b7c"
      },
      "source": [
        "% cd ai-challenge-baseline"
      ],
      "execution_count": null,
      "outputs": [
        {
          "output_type": "stream",
          "text": [
            "/content/ai-challenge-baseline\n"
          ],
          "name": "stdout"
        }
      ]
    },
    {
      "cell_type": "code",
      "metadata": {
        "id": "e6Xi4mk93ZgQ",
        "colab": {
          "base_uri": "https://localhost:8080/"
        },
        "outputId": "9d623bfb-39d4-4ffe-9825-5ba5446a6587"
      },
      "source": [
        "%cd /content/models/research/"
      ],
      "execution_count": null,
      "outputs": [
        {
          "output_type": "stream",
          "text": [
            "/content/models/research\n"
          ],
          "name": "stdout"
        }
      ]
    },
    {
      "cell_type": "code",
      "metadata": {
        "id": "NwdsBdGhFanc",
        "colab": {
          "base_uri": "https://localhost:8080/"
        },
        "outputId": "af23be32-57bd-493c-9201-0cc79afbf1ae"
      },
      "source": [
        "# Install the Object Detection API\n",
        "%%bash\n",
        "cd models/research/\n",
        "protoc object_detection/protos/*.proto --python_out=.\n",
        "cp object_detection/packages/tf2/setup.py .\n",
        "python -m pip install ."
      ],
      "execution_count": null,
      "outputs": [
        {
          "output_type": "stream",
          "text": [
            "Processing /content/models/research\n",
            "Collecting avro-python3\n",
            "  Downloading https://files.pythonhosted.org/packages/b2/5a/819537be46d65a01f8b8c6046ed05603fb9ef88c663b8cca840263788d58/avro-python3-1.10.0.tar.gz\n",
            "Collecting apache-beam\n",
            "  Downloading https://files.pythonhosted.org/packages/86/3f/93816e989e8e59b337f22927778494a99b2a3e78a3b6a9e34d043c6fab4e/apache_beam-2.25.0-cp36-cp36m-manylinux2010_x86_64.whl (8.7MB)\n",
            "Requirement already satisfied: pillow in /usr/local/lib/python3.6/dist-packages (from object-detection==0.1) (7.0.0)\n",
            "Requirement already satisfied: lxml in /usr/local/lib/python3.6/dist-packages (from object-detection==0.1) (4.2.6)\n",
            "Requirement already satisfied: matplotlib in /usr/local/lib/python3.6/dist-packages (from object-detection==0.1) (3.2.2)\n",
            "Requirement already satisfied: Cython in /usr/local/lib/python3.6/dist-packages (from object-detection==0.1) (0.29.21)\n",
            "Requirement already satisfied: contextlib2 in /usr/local/lib/python3.6/dist-packages (from object-detection==0.1) (0.5.5)\n",
            "Collecting tf-slim\n",
            "  Downloading https://files.pythonhosted.org/packages/02/97/b0f4a64df018ca018cc035d44f2ef08f91e2e8aa67271f6f19633a015ff7/tf_slim-1.1.0-py2.py3-none-any.whl (352kB)\n",
            "Requirement already satisfied: six in /usr/local/lib/python3.6/dist-packages (from object-detection==0.1) (1.15.0)\n",
            "Requirement already satisfied: pycocotools in /usr/local/lib/python3.6/dist-packages (from object-detection==0.1) (2.0.2)\n",
            "Collecting lvis\n",
            "  Downloading https://files.pythonhosted.org/packages/72/b6/1992240ab48310b5360bfdd1d53163f43bb97d90dc5dc723c67d41c38e78/lvis-0.5.3-py3-none-any.whl\n",
            "Requirement already satisfied: scipy in /usr/local/lib/python3.6/dist-packages (from object-detection==0.1) (1.4.1)\n",
            "Requirement already satisfied: pandas in /usr/local/lib/python3.6/dist-packages (from object-detection==0.1) (1.1.4)\n",
            "Collecting tf-models-official\n",
            "  Downloading https://files.pythonhosted.org/packages/5b/33/91e5e90e3e96292717245d3fe87eb3b35b07c8a2113f2da7f482040facdb/tf_models_official-2.3.0-py2.py3-none-any.whl (840kB)\n",
            "Collecting future<1.0.0,>=0.18.2\n",
            "  Downloading https://files.pythonhosted.org/packages/45/0b/38b06fd9b92dc2b68d58b75f900e97884c45bedd2ff83203d933cf5851c9/future-0.18.2.tar.gz (829kB)\n",
            "Collecting fastavro<2,>=0.21.4\n",
            "  Downloading https://files.pythonhosted.org/packages/af/54/1054887181f600414beba751290fe13dfa44214e91397aa0c867adb7d74b/fastavro-1.1.0-cp36-cp36m-manylinux2014_x86_64.whl (2.0MB)\n",
            "Requirement already satisfied: grpcio<2,>=1.29.0 in /usr/local/lib/python3.6/dist-packages (from apache-beam->object-detection==0.1) (1.33.2)\n",
            "Requirement already satisfied: typing-extensions<3.8.0,>=3.7.0 in /usr/local/lib/python3.6/dist-packages (from apache-beam->object-detection==0.1) (3.7.4.3)\n",
            "Requirement already satisfied: crcmod<2.0,>=1.7 in /usr/local/lib/python3.6/dist-packages (from apache-beam->object-detection==0.1) (1.7)\n",
            "Collecting mock<3.0.0,>=1.0.1\n",
            "  Downloading https://files.pythonhosted.org/packages/e6/35/f187bdf23be87092bd0f1200d43d23076cee4d0dec109f195173fd3ebc79/mock-2.0.0-py2.py3-none-any.whl (56kB)\n",
            "Requirement already satisfied: oauth2client<5,>=2.0.1 in /usr/local/lib/python3.6/dist-packages (from apache-beam->object-detection==0.1) (4.1.3)\n",
            "Collecting dill<0.3.2,>=0.3.1.1\n",
            "  Downloading https://files.pythonhosted.org/packages/c7/11/345f3173809cea7f1a193bfbf02403fff250a3360e0e118a1630985e547d/dill-0.3.1.1.tar.gz (151kB)\n",
            "Requirement already satisfied: python-dateutil<3,>=2.8.0 in /usr/local/lib/python3.6/dist-packages (from apache-beam->object-detection==0.1) (2.8.1)\n",
            "Collecting hdfs<3.0.0,>=2.1.0\n",
            "  Downloading https://files.pythonhosted.org/packages/82/39/2c0879b1bcfd1f6ad078eb210d09dbce21072386a3997074ee91e60ddc5a/hdfs-2.5.8.tar.gz (41kB)\n",
            "Requirement already satisfied: pydot<2,>=1.2.0 in /usr/local/lib/python3.6/dist-packages (from apache-beam->object-detection==0.1) (1.3.0)\n",
            "Collecting requests<3.0.0,>=2.24.0\n",
            "  Downloading https://files.pythonhosted.org/packages/45/1e/0c169c6a5381e241ba7404532c16a21d86ab872c9bed8bdcd4c423954103/requests-2.24.0-py2.py3-none-any.whl (61kB)\n",
            "Requirement already satisfied: protobuf<4,>=3.12.2 in /usr/local/lib/python3.6/dist-packages (from apache-beam->object-detection==0.1) (3.12.4)\n",
            "Requirement already satisfied: httplib2<0.18.0,>=0.8 in /usr/local/lib/python3.6/dist-packages (from apache-beam->object-detection==0.1) (0.17.4)\n",
            "Requirement already satisfied: numpy<2,>=1.14.3 in /usr/local/lib/python3.6/dist-packages (from apache-beam->object-detection==0.1) (1.18.5)\n",
            "Requirement already satisfied: pymongo<4.0.0,>=3.8.0 in /usr/local/lib/python3.6/dist-packages (from apache-beam->object-detection==0.1) (3.11.0)\n",
            "Collecting pyarrow<0.18.0,>=0.15.1; python_version >= \"3.0\" or platform_system != \"Windows\"\n",
            "  Downloading https://files.pythonhosted.org/packages/ba/3f/6cac1714fff444664603f92cb9fbe91c7ae25375880158b9e9691c4584c8/pyarrow-0.17.1-cp36-cp36m-manylinux2014_x86_64.whl (63.8MB)\n",
            "Requirement already satisfied: pytz>=2018.3 in /usr/local/lib/python3.6/dist-packages (from apache-beam->object-detection==0.1) (2018.9)\n",
            "Requirement already satisfied: pyparsing!=2.0.4,!=2.1.2,!=2.1.6,>=2.0.1 in /usr/local/lib/python3.6/dist-packages (from matplotlib->object-detection==0.1) (2.4.7)\n",
            "Requirement already satisfied: kiwisolver>=1.0.1 in /usr/local/lib/python3.6/dist-packages (from matplotlib->object-detection==0.1) (1.3.1)\n",
            "Requirement already satisfied: cycler>=0.10 in /usr/local/lib/python3.6/dist-packages (from matplotlib->object-detection==0.1) (0.10.0)\n",
            "Requirement already satisfied: absl-py>=0.2.2 in /usr/local/lib/python3.6/dist-packages (from tf-slim->object-detection==0.1) (0.10.0)\n",
            "Requirement already satisfied: setuptools>=18.0 in /usr/local/lib/python3.6/dist-packages (from pycocotools->object-detection==0.1) (50.3.2)\n",
            "Requirement already satisfied: opencv-python>=4.1.0.25 in /usr/local/lib/python3.6/dist-packages (from lvis->object-detection==0.1) (4.1.2.30)\n",
            "Collecting opencv-python-headless\n",
            "  Downloading https://files.pythonhosted.org/packages/08/e9/57d869561389884136be65a2d1bc038fe50171e2ba348fda269a4aab8032/opencv_python_headless-4.4.0.46-cp36-cp36m-manylinux2014_x86_64.whl (36.7MB)\n",
            "Requirement already satisfied: pyyaml in /usr/local/lib/python3.6/dist-packages (from tf-models-official->object-detection==0.1) (3.13)\n",
            "Requirement already satisfied: tensorflow-hub>=0.6.0 in /usr/local/lib/python3.6/dist-packages (from tf-models-official->object-detection==0.1) (0.10.0)\n",
            "Requirement already satisfied: dataclasses in /usr/local/lib/python3.6/dist-packages (from tf-models-official->object-detection==0.1) (0.7)\n",
            "Requirement already satisfied: tensorflow-datasets in /usr/local/lib/python3.6/dist-packages (from tf-models-official->object-detection==0.1) (4.0.1)\n",
            "Requirement already satisfied: google-cloud-bigquery>=0.31.0 in /usr/local/lib/python3.6/dist-packages (from tf-models-official->object-detection==0.1) (1.21.0)\n",
            "Requirement already satisfied: kaggle>=1.3.9 in /usr/local/lib/python3.6/dist-packages (from tf-models-official->object-detection==0.1) (1.5.9)\n",
            "Collecting py-cpuinfo>=3.3.0\n",
            "  Downloading https://files.pythonhosted.org/packages/f6/f5/8e6e85ce2e9f6e05040cf0d4e26f43a4718bcc4bce988b433276d4b1a5c1/py-cpuinfo-7.0.0.tar.gz (95kB)\n",
            "Collecting tensorflow>=2.3.0\n",
            "  Downloading https://files.pythonhosted.org/packages/ad/ad/769c195c72ac72040635c66cd9ba7b0f4b4fc1ac67e59b99fa6988446c22/tensorflow-2.3.1-cp36-cp36m-manylinux2010_x86_64.whl (320.4MB)\n",
            "Collecting sentencepiece\n",
            "  Downloading https://files.pythonhosted.org/packages/e5/2d/6d4ca4bef9a67070fa1cac508606328329152b1df10bdf31fb6e4e727894/sentencepiece-0.1.94-cp36-cp36m-manylinux2014_x86_64.whl (1.1MB)\n",
            "Requirement already satisfied: tensorflow-addons in /usr/local/lib/python3.6/dist-packages (from tf-models-official->object-detection==0.1) (0.8.3)\n",
            "Requirement already satisfied: gin-config in /usr/local/lib/python3.6/dist-packages (from tf-models-official->object-detection==0.1) (0.3.0)\n",
            "Collecting tensorflow-model-optimization>=0.2.1\n",
            "  Downloading https://files.pythonhosted.org/packages/55/38/4fd48ea1bfcb0b6e36d949025200426fe9c3a8bfae029f0973d85518fa5a/tensorflow_model_optimization-0.5.0-py2.py3-none-any.whl (172kB)\n",
            "Requirement already satisfied: google-api-python-client>=1.6.7 in /usr/local/lib/python3.6/dist-packages (from tf-models-official->object-detection==0.1) (1.7.12)\n",
            "Requirement already satisfied: psutil>=5.4.3 in /usr/local/lib/python3.6/dist-packages (from tf-models-official->object-detection==0.1) (5.4.8)\n",
            "Collecting pbr>=0.11\n",
            "  Downloading https://files.pythonhosted.org/packages/fb/48/69046506f6ac61c1eaa9a0d42d22d54673b69e176d30ca98e3f61513e980/pbr-5.5.1-py2.py3-none-any.whl (106kB)\n",
            "Requirement already satisfied: pyasn1>=0.1.7 in /usr/local/lib/python3.6/dist-packages (from oauth2client<5,>=2.0.1->apache-beam->object-detection==0.1) (0.4.8)\n",
            "Requirement already satisfied: rsa>=3.1.4 in /usr/local/lib/python3.6/dist-packages (from oauth2client<5,>=2.0.1->apache-beam->object-detection==0.1) (4.6)\n",
            "Requirement already satisfied: pyasn1-modules>=0.0.5 in /usr/local/lib/python3.6/dist-packages (from oauth2client<5,>=2.0.1->apache-beam->object-detection==0.1) (0.2.8)\n",
            "Requirement already satisfied: docopt in /usr/local/lib/python3.6/dist-packages (from hdfs<3.0.0,>=2.1.0->apache-beam->object-detection==0.1) (0.6.2)\n",
            "Requirement already satisfied: urllib3!=1.25.0,!=1.25.1,<1.26,>=1.21.1 in /usr/local/lib/python3.6/dist-packages (from requests<3.0.0,>=2.24.0->apache-beam->object-detection==0.1) (1.24.3)\n",
            "Requirement already satisfied: certifi>=2017.4.17 in /usr/local/lib/python3.6/dist-packages (from requests<3.0.0,>=2.24.0->apache-beam->object-detection==0.1) (2020.6.20)\n",
            "Requirement already satisfied: chardet<4,>=3.0.2 in /usr/local/lib/python3.6/dist-packages (from requests<3.0.0,>=2.24.0->apache-beam->object-detection==0.1) (3.0.4)\n",
            "Requirement already satisfied: idna<3,>=2.5 in /usr/local/lib/python3.6/dist-packages (from requests<3.0.0,>=2.24.0->apache-beam->object-detection==0.1) (2.10)\n",
            "Requirement already satisfied: tqdm in /usr/local/lib/python3.6/dist-packages (from tensorflow-datasets->tf-models-official->object-detection==0.1) (4.41.1)\n",
            "Requirement already satisfied: attrs>=18.1.0 in /usr/local/lib/python3.6/dist-packages (from tensorflow-datasets->tf-models-official->object-detection==0.1) (20.2.0)\n",
            "Requirement already satisfied: termcolor in /usr/local/lib/python3.6/dist-packages (from tensorflow-datasets->tf-models-official->object-detection==0.1) (1.1.0)\n",
            "Requirement already satisfied: tensorflow-metadata in /usr/local/lib/python3.6/dist-packages (from tensorflow-datasets->tf-models-official->object-detection==0.1) (0.24.0)\n",
            "Requirement already satisfied: promise in /usr/local/lib/python3.6/dist-packages (from tensorflow-datasets->tf-models-official->object-detection==0.1) (2.3)\n",
            "Requirement already satisfied: importlib-resources; python_version < \"3.9\" in /usr/local/lib/python3.6/dist-packages (from tensorflow-datasets->tf-models-official->object-detection==0.1) (3.3.0)\n",
            "Requirement already satisfied: dm-tree in /usr/local/lib/python3.6/dist-packages (from tensorflow-datasets->tf-models-official->object-detection==0.1) (0.1.5)\n",
            "Requirement already satisfied: google-resumable-media!=0.4.0,<0.5.0dev,>=0.3.1 in /usr/local/lib/python3.6/dist-packages (from google-cloud-bigquery>=0.31.0->tf-models-official->object-detection==0.1) (0.4.1)\n",
            "Requirement already satisfied: google-cloud-core<2.0dev,>=1.0.3 in /usr/local/lib/python3.6/dist-packages (from google-cloud-bigquery>=0.31.0->tf-models-official->object-detection==0.1) (1.0.3)\n",
            "Requirement already satisfied: python-slugify in /usr/local/lib/python3.6/dist-packages (from kaggle>=1.3.9->tf-models-official->object-detection==0.1) (4.0.1)\n",
            "Requirement already satisfied: slugify in /usr/local/lib/python3.6/dist-packages (from kaggle>=1.3.9->tf-models-official->object-detection==0.1) (0.0.1)\n",
            "Collecting tensorboard<3,>=2.3.0\n",
            "  Downloading https://files.pythonhosted.org/packages/e9/1b/6a420d7e6ba431cf3d51b2a5bfa06a958c4141e3189385963dc7f6fbffb6/tensorboard-2.3.0-py3-none-any.whl (6.8MB)\n",
            "Requirement already satisfied: h5py<2.11.0,>=2.10.0 in /usr/local/lib/python3.6/dist-packages (from tensorflow>=2.3.0->tf-models-official->object-detection==0.1) (2.10.0)\n",
            "Requirement already satisfied: keras-preprocessing<1.2,>=1.1.1 in /usr/local/lib/python3.6/dist-packages (from tensorflow>=2.3.0->tf-models-official->object-detection==0.1) (1.1.2)\n",
            "Requirement already satisfied: astunparse==1.6.3 in /usr/local/lib/python3.6/dist-packages (from tensorflow>=2.3.0->tf-models-official->object-detection==0.1) (1.6.3)\n",
            "Requirement already satisfied: wrapt>=1.11.1 in /usr/local/lib/python3.6/dist-packages (from tensorflow>=2.3.0->tf-models-official->object-detection==0.1) (1.12.1)\n",
            "Requirement already satisfied: opt-einsum>=2.3.2 in /usr/local/lib/python3.6/dist-packages (from tensorflow>=2.3.0->tf-models-official->object-detection==0.1) (3.3.0)\n",
            "Requirement already satisfied: wheel>=0.26 in /usr/local/lib/python3.6/dist-packages (from tensorflow>=2.3.0->tf-models-official->object-detection==0.1) (0.35.1)\n",
            "Requirement already satisfied: google-pasta>=0.1.8 in /usr/local/lib/python3.6/dist-packages (from tensorflow>=2.3.0->tf-models-official->object-detection==0.1) (0.2.0)\n",
            "Requirement already satisfied: gast==0.3.3 in /usr/local/lib/python3.6/dist-packages (from tensorflow>=2.3.0->tf-models-official->object-detection==0.1) (0.3.3)\n",
            "Collecting tensorflow-estimator<2.4.0,>=2.3.0\n",
            "  Downloading https://files.pythonhosted.org/packages/e9/ed/5853ec0ae380cba4588eab1524e18ece1583b65f7ae0e97321f5ff9dfd60/tensorflow_estimator-2.3.0-py2.py3-none-any.whl (459kB)\n",
            "Requirement already satisfied: typeguard in /usr/local/lib/python3.6/dist-packages (from tensorflow-addons->tf-models-official->object-detection==0.1) (2.7.1)\n",
            "Requirement already satisfied: uritemplate<4dev,>=3.0.0 in /usr/local/lib/python3.6/dist-packages (from google-api-python-client>=1.6.7->tf-models-official->object-detection==0.1) (3.0.1)\n",
            "Requirement already satisfied: google-auth-httplib2>=0.0.3 in /usr/local/lib/python3.6/dist-packages (from google-api-python-client>=1.6.7->tf-models-official->object-detection==0.1) (0.0.4)\n",
            "Requirement already satisfied: google-auth>=1.4.1 in /usr/local/lib/python3.6/dist-packages (from google-api-python-client>=1.6.7->tf-models-official->object-detection==0.1) (1.17.2)\n",
            "Requirement already satisfied: googleapis-common-protos<2,>=1.52.0 in /usr/local/lib/python3.6/dist-packages (from tensorflow-metadata->tensorflow-datasets->tf-models-official->object-detection==0.1) (1.52.0)\n",
            "Requirement already satisfied: zipp>=0.4; python_version < \"3.8\" in /usr/local/lib/python3.6/dist-packages (from importlib-resources; python_version < \"3.9\"->tensorflow-datasets->tf-models-official->object-detection==0.1) (3.4.0)\n",
            "Requirement already satisfied: google-api-core<2.0.0dev,>=1.14.0 in /usr/local/lib/python3.6/dist-packages (from google-cloud-core<2.0dev,>=1.0.3->google-cloud-bigquery>=0.31.0->tf-models-official->object-detection==0.1) (1.16.0)\n",
            "Requirement already satisfied: text-unidecode>=1.3 in /usr/local/lib/python3.6/dist-packages (from python-slugify->kaggle>=1.3.9->tf-models-official->object-detection==0.1) (1.3)\n",
            "Requirement already satisfied: werkzeug>=0.11.15 in /usr/local/lib/python3.6/dist-packages (from tensorboard<3,>=2.3.0->tensorflow>=2.3.0->tf-models-official->object-detection==0.1) (1.0.1)\n",
            "Requirement already satisfied: tensorboard-plugin-wit>=1.6.0 in /usr/local/lib/python3.6/dist-packages (from tensorboard<3,>=2.3.0->tensorflow>=2.3.0->tf-models-official->object-detection==0.1) (1.7.0)\n",
            "Requirement already satisfied: markdown>=2.6.8 in /usr/local/lib/python3.6/dist-packages (from tensorboard<3,>=2.3.0->tensorflow>=2.3.0->tf-models-official->object-detection==0.1) (3.3.3)\n",
            "Requirement already satisfied: google-auth-oauthlib<0.5,>=0.4.1 in /usr/local/lib/python3.6/dist-packages (from tensorboard<3,>=2.3.0->tensorflow>=2.3.0->tf-models-official->object-detection==0.1) (0.4.2)\n",
            "Requirement already satisfied: cachetools<5.0,>=2.0.0 in /usr/local/lib/python3.6/dist-packages (from google-auth>=1.4.1->google-api-python-client>=1.6.7->tf-models-official->object-detection==0.1) (4.1.1)\n",
            "Requirement already satisfied: importlib-metadata; python_version < \"3.8\" in /usr/local/lib/python3.6/dist-packages (from markdown>=2.6.8->tensorboard<3,>=2.3.0->tensorflow>=2.3.0->tf-models-official->object-detection==0.1) (2.0.0)\n",
            "Requirement already satisfied: requests-oauthlib>=0.7.0 in /usr/local/lib/python3.6/dist-packages (from google-auth-oauthlib<0.5,>=0.4.1->tensorboard<3,>=2.3.0->tensorflow>=2.3.0->tf-models-official->object-detection==0.1) (1.3.0)\n",
            "Requirement already satisfied: oauthlib>=3.0.0 in /usr/local/lib/python3.6/dist-packages (from requests-oauthlib>=0.7.0->google-auth-oauthlib<0.5,>=0.4.1->tensorboard<3,>=2.3.0->tensorflow>=2.3.0->tf-models-official->object-detection==0.1) (3.1.0)\n",
            "Building wheels for collected packages: object-detection, avro-python3, future, dill, hdfs, py-cpuinfo\n",
            "  Building wheel for object-detection (setup.py): started\n",
            "  Building wheel for object-detection (setup.py): finished with status 'done'\n",
            "  Created wheel for object-detection: filename=object_detection-0.1-cp36-none-any.whl size=1598322 sha256=638be94434cb6c37c8aeda6949d7e6d3f8ccc4920c7740d04cee6f05253f1ae9\n",
            "  Stored in directory: /tmp/pip-ephem-wheel-cache-8xx2f0_n/wheels/94/49/4b/39b051683087a22ef7e80ec52152a27249d1a644ccf4e442ea\n",
            "  Building wheel for avro-python3 (setup.py): started\n",
            "  Building wheel for avro-python3 (setup.py): finished with status 'done'\n",
            "  Created wheel for avro-python3: filename=avro_python3-1.10.0-cp36-none-any.whl size=43735 sha256=889e0f857a4e49a80c3f12c5bf4b6ad09068db858b3a42eb479db6ca9638dd3b\n",
            "  Stored in directory: /root/.cache/pip/wheels/3f/15/cd/fe4ec8b88c130393464703ee8111e2cddebdc40e1b59ea85e9\n",
            "  Building wheel for future (setup.py): started\n",
            "  Building wheel for future (setup.py): finished with status 'done'\n",
            "  Created wheel for future: filename=future-0.18.2-cp36-none-any.whl size=491057 sha256=f0479a452f473632bff425417b207a5e6d6834022ff629bf95274f4ad92316de\n",
            "  Stored in directory: /root/.cache/pip/wheels/8b/99/a0/81daf51dcd359a9377b110a8a886b3895921802d2fc1b2397e\n",
            "  Building wheel for dill (setup.py): started\n",
            "  Building wheel for dill (setup.py): finished with status 'done'\n",
            "  Created wheel for dill: filename=dill-0.3.1.1-cp36-none-any.whl size=78532 sha256=5dbe9e102abec43951b4f1754dcc8e9d036207904a45d224b34a607b4093e8de\n",
            "  Stored in directory: /root/.cache/pip/wheels/59/b1/91/f02e76c732915c4015ab4010f3015469866c1eb9b14058d8e7\n",
            "  Building wheel for hdfs (setup.py): started\n",
            "  Building wheel for hdfs (setup.py): finished with status 'done'\n",
            "  Created wheel for hdfs: filename=hdfs-2.5.8-cp36-none-any.whl size=33213 sha256=62d1685246040a8a5651815c6b8a9470527f47fba3211c766b810233a45e2653\n",
            "  Stored in directory: /root/.cache/pip/wheels/fe/a7/05/23e3699975fc20f8a30e00ac1e515ab8c61168e982abe4ce70\n",
            "  Building wheel for py-cpuinfo (setup.py): started\n",
            "  Building wheel for py-cpuinfo (setup.py): finished with status 'done'\n",
            "  Created wheel for py-cpuinfo: filename=py_cpuinfo-7.0.0-cp36-none-any.whl size=20071 sha256=1567554da2b8b9f5125002174cb5ca4fcaa9daf02ab44bf458da7cded00af965\n",
            "  Stored in directory: /root/.cache/pip/wheels/f1/93/7b/127daf0c3a5a49feb2fecd468d508067c733fba5192f726ad1\n",
            "Successfully built object-detection avro-python3 future dill hdfs py-cpuinfo\n",
            "Installing collected packages: avro-python3, future, fastavro, pbr, mock, dill, requests, hdfs, pyarrow, apache-beam, tf-slim, lvis, opencv-python-headless, py-cpuinfo, tensorboard, tensorflow-estimator, tensorflow, sentencepiece, tensorflow-model-optimization, tf-models-official, object-detection\n",
            "  Found existing installation: future 0.16.0\n",
            "    Uninstalling future-0.16.0:\n",
            "      Successfully uninstalled future-0.16.0\n",
            "  Found existing installation: dill 0.3.3\n",
            "    Uninstalling dill-0.3.3:\n",
            "      Successfully uninstalled dill-0.3.3\n",
            "  Found existing installation: requests 2.23.0\n",
            "    Uninstalling requests-2.23.0:\n",
            "      Successfully uninstalled requests-2.23.0\n",
            "  Found existing installation: pyarrow 0.14.1\n",
            "    Uninstalling pyarrow-0.14.1:\n",
            "      Successfully uninstalled pyarrow-0.14.1\n",
            "  Found existing installation: tensorboard 2.2.2\n",
            "    Uninstalling tensorboard-2.2.2:\n",
            "      Successfully uninstalled tensorboard-2.2.2\n",
            "  Found existing installation: tensorflow-estimator 2.2.0\n",
            "    Uninstalling tensorflow-estimator-2.2.0:\n",
            "      Successfully uninstalled tensorflow-estimator-2.2.0\n",
            "  Found existing installation: tensorflow 2.2.0\n",
            "    Uninstalling tensorflow-2.2.0:\n",
            "      Successfully uninstalled tensorflow-2.2.0\n",
            "Successfully installed apache-beam-2.25.0 avro-python3-1.10.0 dill-0.3.1.1 fastavro-1.1.0 future-0.18.2 hdfs-2.5.8 lvis-0.5.3 mock-2.0.0 object-detection-0.1 opencv-python-headless-4.4.0.46 pbr-5.5.1 py-cpuinfo-7.0.0 pyarrow-0.17.1 requests-2.24.0 sentencepiece-0.1.94 tensorboard-2.3.0 tensorflow-2.3.1 tensorflow-estimator-2.3.0 tensorflow-model-optimization-0.5.0 tf-models-official-2.3.0 tf-slim-1.1.0\n"
          ],
          "name": "stdout"
        },
        {
          "output_type": "stream",
          "text": [
            "bash: line 1: cd: models/research/: No such file or directory\n",
            "WARNING: Retrying (Retry(total=4, connect=None, read=None, redirect=None, status=None)) after connection broken by 'ProtocolError('Connection aborted.', ConnectionResetError(104, 'Connection reset by peer'))': /simple/sentencepiece/\n",
            "ERROR: multiprocess 0.70.10 has requirement dill>=0.3.2, but you'll have dill 0.3.1.1 which is incompatible.\n",
            "ERROR: google-colab 1.0.0 has requirement requests~=2.23.0, but you'll have requests 2.24.0 which is incompatible.\n",
            "ERROR: datascience 0.10.6 has requirement folium==0.2.1, but you'll have folium 0.8.3 which is incompatible.\n",
            "ERROR: apache-beam 2.25.0 has requirement avro-python3!=1.9.2,<1.10.0,>=1.8.1; python_version >= \"3.0\", but you'll have avro-python3 1.10.0 which is incompatible.\n"
          ],
          "name": "stderr"
        }
      ]
    },
    {
      "cell_type": "code",
      "metadata": {
        "id": "E5aLuBmiZqyq",
        "colab": {
          "base_uri": "https://localhost:8080/"
        },
        "outputId": "dbba62a8-6f02-4a81-a323-6cf3fb087973"
      },
      "source": [
        "# Install the requirements package for SORT source code\n",
        "! pip install filterpy scikit-image lap"
      ],
      "execution_count": null,
      "outputs": [
        {
          "output_type": "stream",
          "text": [
            "Collecting filterpy\n",
            "\u001b[?25l  Downloading https://files.pythonhosted.org/packages/f6/1d/ac8914360460fafa1990890259b7fa5ef7ba4cd59014e782e4ab3ab144d8/filterpy-1.4.5.zip (177kB)\n",
            "\u001b[K     |████████████████████████████████| 184kB 2.6MB/s \n",
            "\u001b[?25hRequirement already satisfied: scikit-image in /usr/local/lib/python3.6/dist-packages (0.16.2)\n",
            "Collecting lap\n",
            "\u001b[?25l  Downloading https://files.pythonhosted.org/packages/bf/64/d9fb6a75b15e783952b2fec6970f033462e67db32dc43dfbb404c14e91c2/lap-0.4.0.tar.gz (1.5MB)\n",
            "\u001b[K     |████████████████████████████████| 1.5MB 8.2MB/s \n",
            "\u001b[?25hRequirement already satisfied: numpy in /usr/local/lib/python3.6/dist-packages (from filterpy) (1.18.5)\n",
            "Requirement already satisfied: scipy in /usr/local/lib/python3.6/dist-packages (from filterpy) (1.4.1)\n",
            "Requirement already satisfied: matplotlib in /usr/local/lib/python3.6/dist-packages (from filterpy) (3.2.2)\n",
            "Requirement already satisfied: pillow>=4.3.0 in /usr/local/lib/python3.6/dist-packages (from scikit-image) (7.0.0)\n",
            "Requirement already satisfied: imageio>=2.3.0 in /usr/local/lib/python3.6/dist-packages (from scikit-image) (2.4.1)\n",
            "Requirement already satisfied: networkx>=2.0 in /usr/local/lib/python3.6/dist-packages (from scikit-image) (2.5)\n",
            "Requirement already satisfied: PyWavelets>=0.4.0 in /usr/local/lib/python3.6/dist-packages (from scikit-image) (1.1.1)\n",
            "Requirement already satisfied: pyparsing!=2.0.4,!=2.1.2,!=2.1.6,>=2.0.1 in /usr/local/lib/python3.6/dist-packages (from matplotlib->filterpy) (2.4.7)\n",
            "Requirement already satisfied: python-dateutil>=2.1 in /usr/local/lib/python3.6/dist-packages (from matplotlib->filterpy) (2.8.1)\n",
            "Requirement already satisfied: kiwisolver>=1.0.1 in /usr/local/lib/python3.6/dist-packages (from matplotlib->filterpy) (1.3.1)\n",
            "Requirement already satisfied: cycler>=0.10 in /usr/local/lib/python3.6/dist-packages (from matplotlib->filterpy) (0.10.0)\n",
            "Requirement already satisfied: decorator>=4.3.0 in /usr/local/lib/python3.6/dist-packages (from networkx>=2.0->scikit-image) (4.4.2)\n",
            "Requirement already satisfied: six>=1.5 in /usr/local/lib/python3.6/dist-packages (from python-dateutil>=2.1->matplotlib->filterpy) (1.15.0)\n",
            "Building wheels for collected packages: filterpy, lap\n",
            "  Building wheel for filterpy (setup.py) ... \u001b[?25l\u001b[?25hdone\n",
            "  Created wheel for filterpy: filename=filterpy-1.4.5-cp36-none-any.whl size=110450 sha256=45fd1b00604d1cbb622720148eeef0f76dd11d61c66c9cbb568d07004353b52f\n",
            "  Stored in directory: /root/.cache/pip/wheels/c3/0c/dd/e92392c3f38a41371602d99fc77d6c1d42aadbf0c6afccdd02\n",
            "  Building wheel for lap (setup.py) ... \u001b[?25l\u001b[?25hdone\n",
            "  Created wheel for lap: filename=lap-0.4.0-cp36-cp36m-linux_x86_64.whl size=1589030 sha256=fe7413d880bf79590b6031aeac746aa1baed0ecd249b28018b25aed4ab5df07f\n",
            "  Stored in directory: /root/.cache/pip/wheels/da/3e/af/eddcd6ffaa27df8d0ddac573758f8953c4e57c64c4c8c8b7d0\n",
            "Successfully built filterpy lap\n",
            "Installing collected packages: filterpy, lap\n",
            "Successfully installed filterpy-1.4.5 lap-0.4.0\n"
          ],
          "name": "stdout"
        }
      ]
    },
    {
      "cell_type": "code",
      "metadata": {
        "id": "2LT09Kh83xRQ"
      },
      "source": [
        "import matplotlib\n",
        "import matplotlib.pyplot as plt\n",
        "from time import time\n",
        "import io\n",
        "import scipy.misc\n",
        "import numpy as np\n",
        "from six import BytesIO\n",
        "from PIL import Image, ImageDraw, ImageFont\n",
        "import csv\n",
        "import tensorflow as tf\n",
        "import os\n",
        "import pathlib\n",
        "\n"
      ],
      "execution_count": null,
      "outputs": []
    },
    {
      "cell_type": "code",
      "metadata": {
        "id": "oB9bOypW-wiR"
      },
      "source": [
        "from object_detection.utils import label_map_util\n",
        "from object_detection.utils import config_util\n",
        "from object_detection.utils import visualization_utils as viz_utils\n",
        "from object_detection.builders import model_builder"
      ],
      "execution_count": null,
      "outputs": []
    },
    {
      "cell_type": "markdown",
      "metadata": {
        "id": "5gkBIEc_Ri1I"
      },
      "source": [
        "# Đọc dữ liệu từ video\n",
        "\n",
        "Đoạn chương trình dưới đây dùng để trích xuất tất cả các khung ảnh (frame) của video và lưu lại dưới dạng các ảnh riêng lẻ trong thư mục tạm."
      ]
    },
    {
      "cell_type": "code",
      "metadata": {
        "id": "VY4a6D4I3xRW"
      },
      "source": [
        "\n",
        "def load_image_into_numpy_array(path):\n",
        "  \"\"\"Load an image from file into a numpy array.\n",
        "\n",
        "  Puts image into numpy array to feed into tensorflow graph.\n",
        "  Note that by convention we put it into a numpy array with shape\n",
        "  (height, width, channels), where channels=3 for RGB.\n",
        "\n",
        "  Args:\n",
        "    path: the file path to the image\n",
        "\n",
        "  Returns:\n",
        "    uint8 numpy array with shape (img_height, img_width, 3)\n",
        "  \"\"\"\n",
        "  img_data = tf.io.gfile.GFile(path, 'rb').read()\n",
        "  image = Image.open(BytesIO(img_data))\n",
        "  (im_width, im_height) = image.size\n",
        "  return np.array(image.getdata()).reshape(\n",
        "      (im_height, im_width, 3)).astype(np.uint8)\n",
        "\n",
        "def get_keypoint_tuples(eval_config):\n",
        "  \"\"\"Return a tuple list of keypoint edges from the eval config.\n",
        "  \n",
        "  Args:\n",
        "    eval_config: an eval config containing the keypoint edges\n",
        "  \n",
        "  Returns:\n",
        "    a list of edge tuples, each in the format (start, end)\n",
        "  \"\"\"\n",
        "  tuple_list = []\n",
        "  kp_list = eval_config.keypoint_edge\n",
        "  for edge in kp_list:\n",
        "    tuple_list.append((edge.start, edge.end))\n",
        "  return tuple_list\n"
      ],
      "execution_count": null,
      "outputs": []
    },
    {
      "cell_type": "code",
      "metadata": {
        "id": "0BqBoTTu3xRj"
      },
      "source": [
        "  "
      ],
      "execution_count": null,
      "outputs": []
    },
    {
      "cell_type": "markdown",
      "metadata": {
        "id": "qGqOfyODJKxn"
      },
      "source": [
        "# Chuẩn bị model\n"
      ]
    },
    {
      "cell_type": "markdown",
      "metadata": {
        "id": "wKzgcA_2JkuB"
      },
      "source": [
        "Đoạn chương trình sau sử dụng Detection API có sẵn, bạn có thể lựa chọn hoặc thay đổi các detection architecture cùng với backbone mà model zoo cung cấp"
      ]
    },
    {
      "cell_type": "code",
      "metadata": {
        "id": "d4_M-RY081FH"
      },
      "source": [
        "print(model_config_file)\n",
        "print(model_weight_file)"
      ],
      "execution_count": null,
      "outputs": []
    },
    {
      "cell_type": "markdown",
      "metadata": {
        "id": "sv1KH_opJ4pU"
      },
      "source": [
        "Tải và giải nén pretrained model"
      ]
    },
    {
      "cell_type": "code",
      "metadata": {
        "id": "5iI1L_1TmTUw",
        "colab": {
          "base_uri": "https://localhost:8080/",
          "height": 34
        },
        "outputId": "34bd1d2f-1e3b-440d-8cb3-1e8b87174c87"
      },
      "source": [
        "%cd /content"
      ],
      "execution_count": null,
      "outputs": [
        {
          "output_type": "stream",
          "text": [
            "/content\n"
          ],
          "name": "stdout"
        }
      ]
    },
    {
      "cell_type": "code",
      "metadata": {
        "id": "nxc9eMArpLXz"
      },
      "source": [
        "import tensorflow as tf\n",
        "import numpy as np\n",
        "import cv2\n",
        "from object_detection.utils import label_map_util\n",
        "from object_detection.utils import config_util\n",
        "from object_detection.builders import model_builder\n",
        "\n",
        "\n",
        "class Detector(object):\n",
        "    def __init__(self, path_config, path_ckpt, path_to_labels):\n",
        "        self.path_config = path_config\n",
        "        self.path_ckpt = path_ckpt\n",
        "        self.label_path = path_to_labels\n",
        "\n",
        "        self.category_index = label_map_util.create_category_index_from_labelmap(path_to_labels, use_display_name=True)\n",
        "        self.detection_model = self.load_model()\n",
        "        self.detection_scores = None\n",
        "        self.detection_boxes = None\n",
        "        self.detection_classes = None\n",
        "\n",
        "    def detect_fn(self, image):\n",
        "        \"\"\"Detect objects in image.\"\"\"\n",
        "        image, shapes = self.detection_model.preprocess(image)\n",
        "        prediction_dict = self.detection_model.predict(image, shapes)\n",
        "        detections = self.detection_model.postprocess(prediction_dict, shapes)\n",
        "        return detections\n",
        "\n",
        "    def load_model(self):\n",
        "        # Load pipeline config and build a detection model\n",
        "        configs = config_util.get_configs_from_pipeline_file(self.path_config)\n",
        "        model_config = configs['model']\n",
        "        detection_model = model_builder.build(model_config=model_config, is_training=False)\n",
        "\n",
        "        # Restore checkpoint\n",
        "        ckpt = tf.compat.v2.train.Checkpoint(model=detection_model)\n",
        "        ckpt.restore(self.path_ckpt).expect_partial()\n",
        "\n",
        "        return detection_model\n",
        "\n",
        "    def predict(self, image):\n",
        "        original_img = np.copy(image)\n",
        "\n",
        "        image = np.asarray(image)\n",
        "\n",
        "        input_tensor = tf.convert_to_tensor(np.expand_dims(image, 0), dtype=tf.float32)\n",
        "        detections = self.detect_fn(input_tensor)\n",
        "\n",
        "        # All outputs are batches tensors.\n",
        "        # Convert to numpy arrays, and take index [0] to remove the batch dimension.\n",
        "        # We're only interested in the first num_detections.\n",
        "        num_detections = int(detections.pop('num_detections'))\n",
        "        # num_detections = int(detections.pop('num_detections'))\n",
        "        detections = {key: value[0, :num_detections].numpy() for key, value in detections.items()}\n",
        "        detections['num_detections'] = num_detections\n",
        "\n",
        "        # detection_classes should be ints.\n",
        "        detections['detection_classes'] = detections['detection_classes'].astype(np.int64)\n",
        "\n",
        "        self.detection_scores = detections['detection_scores']\n",
        "        self.detection_classes = detections['detection_classes']\n",
        "        self.detection_boxes = detections['detection_boxes']\n",
        "\n",
        "        # draw bounding boxes and labels\n",
        "        image, coordinate_dict = self.draw(image)\n",
        "\n",
        "        return image, original_img, coordinate_dict\n",
        "\n",
        "    def draw(self, img):\n",
        "        coordinate_dict = dict()\n",
        "        height, width, _ = img.shape\n",
        "        li = []\n",
        "\n",
        "        for i, score in enumerate(self.detection_scores):\n",
        "            self.detection_classes[i] += 1\n",
        "            # if background, ignore\n",
        "            # if self.detection_classes[i] == 0:\n",
        "            #     continue\n",
        "            # if self.detection_classes[i] != 3 and self.detection_classes[i] != 4 and self.detection_classes[i] != 6 and self.detection_classes[i] != 8:\n",
        "            #     continue\n",
        "            # If class is motorcycle \n",
        "            if self.detection_classes[i] == 1:\n",
        "                if score < 0.3:\n",
        "                  continue\n",
        "            # If class is car\n",
        "            if self.detection_classes[i] == 2:\n",
        "                if score < 0.5:\n",
        "                  continue\n",
        "            # If class is bus\n",
        "            if self.detection_classes[i] == 3:\n",
        "                if score < 0.7:\n",
        "                  continue\n",
        "            # If class is truck , container\n",
        "            if self.detection_classes[i] == 4:\n",
        "                if score < 0.7:\n",
        "                  continue      \n",
        "            print(\"Index {} at score {} and class {} \".format(i , score, self.detection_classes[i]))                        \n",
        "            label = \"index \" + str(i) + \" class \" + str(self.category_index[self.detection_classes[i]]['name']) \n",
        "            ymin, xmin, ymax, xmax = self.detection_boxes[i]\n",
        "            real_xmin, real_ymin, real_xmax, real_ymax = int(xmin * width), int(ymin * height), int(xmax * width), int(\n",
        "                ymax * height)\n",
        "\n",
        "            #curr = real_xmax * real_ymax - real_ymin * real_xmin\n",
        "            curr_bb = {\"xmin\" : real_xmin , \"xmax\" : real_xmax , \"ymin\" : real_ymin , \"ymax\" :real_ymax }\n",
        "            status = is_overlap(curr_bb, li)\n",
        "            if status == 1:\n",
        "                continue\n",
        "            print(\"Is not ovelaped\")\n",
        "            li.append(curr_bb)\n",
        "            # check overlap bounding boxes\n",
        "\n",
        "            cv2.rectangle(img, (real_xmin, real_ymin), (real_xmax, real_ymax), (0, 255, 0), 2)\n",
        "            cv2.putText(img, label, (real_xmin, real_ymin), cv2.FONT_HERSHEY_SIMPLEX, color=(0, 0, 255), fontScale=0.5)\n",
        "            coordinate_dict[label] = (real_xmin, real_ymin, real_xmax, real_ymax)\n",
        "\n",
        "        return img, coordinate_dict\n",
        "\n",
        "def get_IOU(bb1 , bb2):\n",
        "    x_left = max(bb1['xmin'], bb2['xmin'])\n",
        "    y_top = max(bb1['ymin'], bb2['ymin'])\n",
        "    x_right = min(bb1['xmax'], bb2['xmax'])\n",
        "    y_bottom = min(bb1['ymax'], bb2['ymax'])\n",
        "    if x_right < x_left or y_bottom < y_top:\n",
        "        return 0.0\n",
        "    intersection_area = (x_right - x_left) * (y_bottom - y_top)\n",
        "    bb1_area = (bb1['xmax'] - bb1['xmin']) * (bb1['ymax'] - bb1['ymin'])\n",
        "    bb2_area = (bb2['xmax'] - bb2['xmin']) * (bb2['ymax'] - bb2['ymin'])\n",
        "    iou = intersection_area / float(bb1_area + bb2_area - intersection_area)\n",
        "    assert iou >= 0\n",
        "    assert iou <= 1\n",
        "    return iou\n",
        "\n",
        "def is_overlap(bb , list_bounding_box):\n",
        "    for bounding_box in list_bounding_box:\n",
        "        if (get_IOU(bb , bounding_box) > 0.5):\n",
        "          return 1\n",
        "    return 0\n",
        "\n",
        "def check_overlap(curr, li):\n",
        "    for va in li:\n",
        "        # overlap\n",
        "        if abs(va - curr) < 1000:\n",
        "            return 1\n",
        "    return 0"
      ],
      "execution_count": null,
      "outputs": []
    },
    {
      "cell_type": "markdown",
      "metadata": {
        "id": "2xJ-g4FSUx1l"
      },
      "source": [
        "# Lấy thông tin MOI và ROI từ json\n",
        "Đọc file json ứng với mỗi video chứa thông tin ROI và MOI"
      ]
    },
    {
      "cell_type": "code",
      "metadata": {
        "id": "Ile9zBpn3xSg"
      },
      "source": [
        "import json\n",
        "def load_zone_anno(json_filename):\n",
        "  \"\"\"\n",
        "  Load the json with ROI and MOI annotation.\n",
        "\n",
        "  \"\"\"\n",
        "  with open(json_filename) as jsonfile:\n",
        "    dd = json.load(jsonfile)\n",
        "    polygon = [(int(x), int(y)) for x, y in dd['shapes'][0]['points']]\n",
        "    paths = {}\n",
        "    for it in dd['shapes'][1:]:\n",
        "      kk = str(int(it['label'][-2:]))\n",
        "      paths[kk] = [(int(x), int(y)) for x, y\n",
        "              in it['points']]\n",
        "  return polygon, paths\n",
        "  "
      ],
      "execution_count": null,
      "outputs": []
    },
    {
      "cell_type": "code",
      "metadata": {
        "id": "uttgiFRY3xSk"
      },
      "source": [
        "polygon, paths = load_zone_anno('/content/drive/My Drive/VietAI/VietAI-AdvancedClass-2020-10/zones_movement_paths/cam_01.json')\n"
      ],
      "execution_count": null,
      "outputs": []
    },
    {
      "cell_type": "code",
      "metadata": {
        "id": "HA5o2hOF_aP1",
        "colab": {
          "base_uri": "https://localhost:8080/"
        },
        "outputId": "f008fd64-2225-45ea-ea81-eb7dd5cb7e22"
      },
      "source": [
        "polygon"
      ],
      "execution_count": null,
      "outputs": [
        {
          "output_type": "execute_result",
          "data": {
            "text/plain": [
              "[(1, 341), (150, 210), (963, 249), (1278, 464), (0, 462)]"
            ]
          },
          "metadata": {
            "tags": []
          },
          "execution_count": 16
        }
      ]
    },
    {
      "cell_type": "code",
      "metadata": {
        "id": "Yio2Cyyt_hwz",
        "colab": {
          "base_uri": "https://localhost:8080/"
        },
        "outputId": "bfc8a312-faea-4cc8-c8d8-8c40c408ddff"
      },
      "source": [
        "paths"
      ],
      "execution_count": null,
      "outputs": [
        {
          "output_type": "execute_result",
          "data": {
            "text/plain": [
              "{'1': [(347, 210), (196, 548)], '2': [(850, 512), (736, 220)]}"
            ]
          },
          "metadata": {
            "tags": []
          },
          "execution_count": 17
        }
      ]
    },
    {
      "cell_type": "markdown",
      "metadata": {
        "id": "8Hc3s7VfUAhl"
      },
      "source": [
        "# Phát hiện hướng duy chuyển của các xe máy"
      ]
    },
    {
      "cell_type": "markdown",
      "metadata": {
        "id": "t0tEGNvVP3Ab"
      },
      "source": [
        "Trong hướng dẫn này chỉ đếm một loại phương tiện là xe máy. Đối với source code hiện tại, mỗi loại phương tiện cần tạo một tracker khác nhau."
      ]
    },
    {
      "cell_type": "markdown",
      "metadata": {
        "id": "ciSftBRfUrsj"
      },
      "source": [
        "Hàm kiểm tra phương tiện phát hiện được có nằm trong ROI"
      ]
    },
    {
      "cell_type": "code",
      "metadata": {
        "id": "xOAsjmO7TzFi",
        "colab": {
          "base_uri": "https://localhost:8080/"
        },
        "outputId": "8fef8cde-260f-4522-93e5-e9f7f5c2258b"
      },
      "source": [
        "%cd '/content/ai-challenge-baseline'"
      ],
      "execution_count": null,
      "outputs": [
        {
          "output_type": "stream",
          "text": [
            "/content/ai-challenge-baseline\n"
          ],
          "name": "stdout"
        }
      ]
    },
    {
      "cell_type": "code",
      "metadata": {
        "id": "D6DEp8DV3xSd"
      },
      "source": [
        "\n",
        "from solution_baseline import bb_polygon\n",
        "def check_bbox_intersect_polygon(polygon, bbox):\n",
        "  \"\"\"\n",
        "  \n",
        "  Args:\n",
        "    polygon: List of points (x,y)\n",
        "    bbox: A tuple (xmin, ymin, xmax, ymax)\n",
        "  \n",
        "  Returns:\n",
        "    True if the bbox intersect the polygon\n",
        "  \"\"\"\n",
        "  x1, y1, x2, y2 = bbox\n",
        "  bb = [(x1,y1), (x2, y1), (x2,y2), (x1,y2)]\n",
        "  return bb_polygon.is_bounding_box_intersect(bb, polygon)\n"
      ],
      "execution_count": null,
      "outputs": []
    },
    {
      "cell_type": "code",
      "metadata": {
        "id": "J2uKQUur3xSY"
      },
      "source": [
        "\n",
        "from solution_baseline.sort import *\n",
        "\n"
      ],
      "execution_count": null,
      "outputs": []
    },
    {
      "cell_type": "code",
      "metadata": {
        "id": "4fp5sRgYoLQw"
      },
      "source": [
        "image_dir = '/content/drive/My Drive/VietAI/VietAI-AdvancedClass-2020-10/Track/cam_01'"
      ],
      "execution_count": null,
      "outputs": []
    },
    {
      "cell_type": "code",
      "metadata": {
        "id": "Tvq3QaTOqgDO"
      },
      "source": [
        "detector = Detector('/content/drive/My Drive/VietAI/training1/pipeline1.config'\n",
        "                    ,'/content/drive/My Drive/VietAI/training1/ckpt-12'\n",
        "                    ,'/content/drive/My Drive/VietAI/Tensorflow/workspace/training_demo/annotations/label_map.pbtxt')"
      ],
      "execution_count": null,
      "outputs": []
    },
    {
      "cell_type": "code",
      "metadata": {
        "id": "m4uts-Oprd9_"
      },
      "source": [
        "import time\n",
        "from google.colab.patches import cv2_imshow"
      ],
      "execution_count": null,
      "outputs": []
    },
    {
      "cell_type": "code",
      "metadata": {
        "id": "y7ahWfVKqdPi",
        "colab": {
          "base_uri": "https://localhost:8080/"
        },
        "outputId": "7932b1c2-8664-4cff-d86a-4f8f0f93e5c2"
      },
      "source": [
        "# Create an motobikes tracker with default parameter.\n",
        "# Please read the sort documentation for the custom paramenters.\n",
        "from IPython.display import clear_output\n",
        "from tqdm import tqdm\n",
        "import os\n",
        "\n",
        "bus_tracker = Sort()\n",
        "car_tracker = Sort()\n",
        "moto_tracker = Sort()\n",
        "\n",
        "# If you want to track another vehicle class, you need to declare a new tracker.\n",
        "# truck_tracker = Sort()\n",
        "\n",
        "track_dict_bus = {}\n",
        "track_dict_car = {}\n",
        "track_dict_moto = {}\n",
        "\n",
        "N_FRAMES = 6010\n",
        "\n",
        "print(\"running\")\n",
        "for frame_id in tqdm(range(0, N_FRAMES ,1)):\n",
        "  if frame_id % 10 == 0:\n",
        "    clear_output(wait=True)\n",
        "  image_path = os.path.join(image_dir, '{}.jpg'.format(frame_id))\n",
        "  # print(\"Image path :\")\n",
        "  print(image_path)\n",
        "  if not os.path.isfile(image_path):\n",
        "    continue\n",
        "  image_np = load_image_into_numpy_array(image_path)\n",
        "\n",
        "  # track_image_for_bus = image_np.copy()\n",
        "  # track_image_for_car = image_np.copy()\n",
        "  # track_image_for_moto = image_np.copy()\n",
        "\n",
        "  im_width, im_height, _ = image_np.shape\n",
        "  input_tensor = tf.convert_to_tensor(\n",
        "      np.expand_dims(image_np, 0), dtype=tf.float32)\n",
        "  #detections, predictions_dict, shapes = detect_fn(input_tensor)\n",
        "  #image, original_image, coordinate_dict = detector.predict(image_np)\n",
        "  #cv2_imshow(image)\n",
        "\n",
        "  # print(\"Visualize after get tracker\")\n",
        "  detections = detector.detect_fn(input_tensor)\n",
        "\n",
        "  boxes = detections['detection_boxes'][0]\n",
        "  scores = detections['detection_scores'][0]\n",
        "  classes = detections['detection_classes'][0]\n",
        "\n",
        "  dets_bus = []\n",
        "  dets_car = []\n",
        "  dets_moto = []\n",
        "  #count = -1\n",
        "  for bb, s, c in zip(boxes, scores, classes):\n",
        "    num_class = c + 1\n",
        "    #count = count + 1\n",
        "    if num_class == 1:\n",
        "      if s < 0.3:\n",
        "        continue  \n",
        "    if num_class == 2:\n",
        "      if s < 0.5:\n",
        "        continue  \n",
        "    if num_class == 3:\n",
        "      if s < 0.7:\n",
        "        continue  \n",
        "    if num_class == 4:\n",
        "      if s < 0.7:\n",
        "        continue  \n",
        "    ymin, xmin, ymax, xmax = bb.numpy()\n",
        "    xmin, ymin, xmax, ymax = int(xmin*im_height), int(ymin*im_width), int(xmax*im_height), int(ymax*im_width)\n",
        "    if check_bbox_intersect_polygon(polygon, (xmin, ymin, xmax, ymax)):\n",
        "      #print(\"index {} class {} Is intersect  ROI\".format(count , num_class))\n",
        "      if num_class == 3:\n",
        "      # check if the bbox is in ROI\n",
        "        dets_bus.append([xmin, ymin, xmax, ymax, s.numpy()])\n",
        "      if num_class == 2:\n",
        "        dets_car.append([xmin, ymin, xmax, ymax, s.numpy()])\n",
        "      if num_class == 1:\n",
        "        dets_moto.append([xmin, ymin, xmax, ymax, s.numpy()])\n",
        "    #else :\n",
        "      #print(\"index {} class {} Is not intersect of ROI\".format(count , num_class))\n",
        "\n",
        "\n",
        "\n",
        "  dets_bus = np.array(dets_bus)\n",
        "  dets_car = np.array(dets_car)\n",
        "  dets_moto = np.array(dets_moto)\n",
        "\n",
        "  if dets_bus.size != 0:\n",
        "    trackers_bus = bus_tracker.update(dets_bus)\n",
        "  # print('trackers')\n",
        "  # print(trackers)\n",
        "\n",
        "    for xmin, ymin, xmax, ymax, track_id in trackers_bus:\n",
        "      track_id = int(track_id)\n",
        "      #  Visualize tracker\n",
        "      #cv2.rectangle(track_image_for_bus, (int(xmin), int(ymin)), (int(xmax), int(ymax)), (0, 255, 0), 2)\n",
        "      #cv2.putText(track_image_for_bus, \"Bus Track \" + str(track_id), (int(xmax), int(ymax)), cv2.FONT_HERSHEY_SIMPLEX, color=(0, 0, 255), fontScale=0.5)\n",
        "      ##print(track_id)\n",
        "      if track_id not in track_dict_bus.keys():\n",
        "        track_dict_bus[track_id] = [(xmin, ymin, xmax, ymax, frame_id)]\n",
        "      else:\n",
        "        track_dict_bus[track_id].append((xmin, ymin, xmax, ymax, frame_id))\n",
        "    # print(\"Trackdict\")\n",
        "    # print(track_dict)\n",
        "    print(\"Track number in bus: {}\".format(len(track_dict_bus.keys())))\n",
        "    #cv2_imshow(track_image_for_bus) \n",
        "\n",
        "  if dets_car.size != 0:\n",
        "    trackers_car = car_tracker.update(dets_car)\n",
        "  # print('trackers')\n",
        "  # print(trackers)\n",
        "\n",
        "    for xmin, ymin, xmax, ymax, track_id in trackers_car:\n",
        "      track_id = int(track_id)\n",
        "      #  Visualize tracker\n",
        "      #cv2.rectangle(track_image_for_car, (int(xmin), int(ymin)), (int(xmax), int(ymax)), (0, 255, 0), 2)\n",
        "      #cv2.putText(track_image_for_car, \"Car Track \" + str(track_id), (int(xmax), int(ymax)), cv2.FONT_HERSHEY_SIMPLEX, color=(0, 0, 255), fontScale=0.5)\n",
        "      ##print(track_id)\n",
        "      if track_id not in track_dict_car.keys():\n",
        "        track_dict_car[track_id] = [(xmin, ymin, xmax, ymax, frame_id)]\n",
        "      else:\n",
        "        track_dict_car[track_id].append((xmin, ymin, xmax, ymax, frame_id))\n",
        "    # print(\"Trackdict\")\n",
        "    # print(track_dict)\n",
        "    print(\"Track number in car: {}\".format(len(track_dict_car.keys())))\n",
        "    #cv2_imshow(track_image_for_car) \n",
        "\n",
        "  if dets_moto.size != 0:\n",
        "    trackers_moto = moto_tracker.update(dets_moto)\n",
        "  # print('trackers')\n",
        "  # print(trackers)\n",
        "\n",
        "    for xmin, ymin, xmax, ymax, track_id in trackers_moto:\n",
        "      track_id = int(track_id)\n",
        "      #  Visualize tracker\n",
        "      #cv2.rectangle(track_image_for_moto, (int(xmin), int(ymin)), (int(xmax), int(ymax)), (0, 255, 0), 2)\n",
        "      #cv2.putText(track_image_for_moto, \"Moto Track \" + str(track_id), (int(xmax), int(ymax)), cv2.FONT_HERSHEY_SIMPLEX, color=(0, 0, 255), fontScale=0.5)\n",
        "      ##print(track_id)\n",
        "      if track_id not in track_dict_moto.keys():\n",
        "        track_dict_moto[track_id] = [(xmin, ymin, xmax, ymax, frame_id)]\n",
        "      else:\n",
        "        track_dict_moto[track_id].append((xmin, ymin, xmax, ymax, frame_id))\n",
        "    # print(\"Trackdict\")\n",
        "    # print(track_dict)\n",
        "    print(\"Track number in moto: {}\".format(len(track_dict_moto.keys())))\n",
        "    #cv2_imshow(track_image_for_moto) \n",
        "\n",
        "\n",
        "print(\"Finished\")"
      ],
      "execution_count": null,
      "outputs": [
        {
          "output_type": "stream",
          "text": [
            "/content/drive/My Drive/VietAI/VietAI-AdvancedClass-2020-10/Track/cam_01/2000.jpg\n"
          ],
          "name": "stdout"
        },
        {
          "output_type": "stream",
          "text": [
            "\n",
            " 33%|███▎      | 2001/6010 [1:43:15<3:20:16,  3.00s/it]\u001b[A"
          ],
          "name": "stderr"
        },
        {
          "output_type": "stream",
          "text": [
            "/content/drive/My Drive/VietAI/VietAI-AdvancedClass-2020-10/Track/cam_01/2001.jpg\n"
          ],
          "name": "stdout"
        },
        {
          "output_type": "stream",
          "text": [
            "\n",
            " 33%|███▎      | 2002/6010 [1:43:18<3:21:10,  3.01s/it]\u001b[A"
          ],
          "name": "stderr"
        },
        {
          "output_type": "stream",
          "text": [
            "/content/drive/My Drive/VietAI/VietAI-AdvancedClass-2020-10/Track/cam_01/2002.jpg\n"
          ],
          "name": "stdout"
        },
        {
          "output_type": "stream",
          "text": [
            "\n",
            " 33%|███▎      | 2003/6010 [1:43:21<3:20:26,  3.00s/it]\u001b[A"
          ],
          "name": "stderr"
        },
        {
          "output_type": "stream",
          "text": [
            "/content/drive/My Drive/VietAI/VietAI-AdvancedClass-2020-10/Track/cam_01/2003.jpg\n"
          ],
          "name": "stdout"
        },
        {
          "output_type": "stream",
          "text": [
            "\n",
            " 33%|███▎      | 2004/6010 [1:43:24<3:20:05,  3.00s/it]\u001b[A"
          ],
          "name": "stderr"
        },
        {
          "output_type": "stream",
          "text": [
            "/content/drive/My Drive/VietAI/VietAI-AdvancedClass-2020-10/Track/cam_01/2004.jpg\n"
          ],
          "name": "stdout"
        },
        {
          "output_type": "stream",
          "text": [
            "\n",
            " 33%|███▎      | 2005/6010 [1:43:27<3:21:10,  3.01s/it]\u001b[A"
          ],
          "name": "stderr"
        },
        {
          "output_type": "stream",
          "text": [
            "/content/drive/My Drive/VietAI/VietAI-AdvancedClass-2020-10/Track/cam_01/2005.jpg\n"
          ],
          "name": "stdout"
        }
      ]
    },
    {
      "cell_type": "code",
      "metadata": {
        "id": "hbC4P_EvDKmf",
        "colab": {
          "base_uri": "https://localhost:8080/"
        },
        "outputId": "b3cda564-5863-4bec-9ca4-8a937563720f"
      },
      "source": [
        "for track_id, track_item in track_dict.items():\n",
        "  print(track_id,track_item)"
      ],
      "execution_count": null,
      "outputs": [
        {
          "output_type": "stream",
          "text": [
            "11083 [(123.69330883026123, 170.3914451599121, 700.0, 3.0, 700)]\n",
            "11084 [(125.2143144607544, 168.5245704650879, 701.0, 3.0, 701)]\n",
            "11085 [(129.0392518043518, 167.44558334350586, 702.0, 3.0, 702)]\n"
          ],
          "name": "stdout"
        }
      ]
    },
    {
      "cell_type": "code",
      "metadata": {
        "id": "vuWlt2S03xSn"
      },
      "source": [
        "# Create an motobikes tracker with default parameter.\n",
        "# Please read the sort documentation for the custom paramenters.\n",
        "\n",
        "moto_tracker = Sort()\n",
        "\n",
        "# If you want to track another vehicle class, you need to declare a new tracker.\n",
        "# truck_tracker = Sort()\n",
        "\n",
        "track_dict = {}\n",
        "\n",
        "N_FRAMES = 20\n",
        "\n",
        "for frame_id in range(1, N_FRAMES):\n",
        "  image_path = os.path.join(image_dir, '{}.jpg'.format(frame_id))\n",
        "  print(\"Image path :\")\n",
        "  print(image_path)\n",
        "  image_np = load_image_into_numpy_array(image_path)\n",
        "\n",
        "\n",
        "  im_width, im_height, _ = image_np.shape\n",
        "  input_tensor = tf.convert_to_tensor(\n",
        "      np.expand_dims(image_np, 0), dtype=tf.float32)\n",
        "  detections, predictions_dict, shapes = detect_fn(input_tensor)\n",
        "\n",
        "  # print(\"detection\")\n",
        "  # print(detections)\n",
        "  # print(\"predictions_dict\")\n",
        "  # print(predictions_dict)\n",
        "\n",
        "  boxes = detections['detection_boxes'][0]\n",
        "  scores = detections['detection_scores'][0]\n",
        "  classes = detections['detection_classes'][0]\n",
        "\n",
        "\n",
        "  dets = []\n",
        "  for bb, s, c in zip(boxes, scores, classes):\n",
        "    ymin, xmin, ymax, xmax = bb.numpy()\n",
        "    xmin, ymin, xmax, ymax = xmin*im_width, ymin*im_height, xmax*im_width, ymax*im_height\n",
        "    if check_bbox_intersect_polygon(polygon, (xmin, ymin, xmax, ymax)):\n",
        "      # check if the bbox is in ROI\n",
        "      dets.append((frame_id, c.numpy(), xmin, ymin, xmax, ymax, s.numpy()))\n",
        "\n",
        "\n",
        "  label_id_offset = 1\n",
        "  image_np_with_detections = image_np.copy()\n",
        "\n",
        "\n",
        "  dets = np.array(dets)\n",
        "  # Only get the detections with the class label is '3' which indicate the motobike class.\n",
        "  moto_dets = dets[dets[:,1]==3]\n",
        "  moto_dets = np.array(moto_dets)\n",
        "\n",
        "  trackers = moto_tracker.update(moto_dets)\n",
        "  for xmin, ymin, xmax, ymax, track_id in trackers:\n",
        "    track_id = int(track_id)\n",
        "    # print(track_id)\n",
        "    if track_id not in track_dict.keys():\n",
        "      track_dict[track_id] = [(xmin, ymin, xmax, ymax, frame_id)]\n",
        "    else:\n",
        "      track_dict[track_id].append((xmin, ymin, xmax, ymax, frame_id))"
      ],
      "execution_count": null,
      "outputs": []
    },
    {
      "cell_type": "code",
      "metadata": {
        "id": "fZa_6Lg4xtju",
        "colab": {
          "base_uri": "https://localhost:8080/"
        },
        "outputId": "3f42151c-0ace-415e-8969-b27535ad5340"
      },
      "source": [
        "for track_id  in track_dict.keys():\n",
        "  print(\"Track id {}\".format(track_id))\n",
        "  print(\"Track list : {}\".format(track_dict[track_id]))"
      ],
      "execution_count": null,
      "outputs": [
        {
          "output_type": "stream",
          "text": [
            "Track id 1\n",
            "Track list : [(355.0, 478.0, 639.0, 720.0, 0), (387.12100445531587, 495.8763230112512, 650.8746008183557, 720.1218791461598, 1), (441.9052425526649, 491.8175808335184, 680.5609596047734, 696.0645636643371, 2), (470.1829410317819, 477.301992877689, 694.9855452026989, 672.1246979737714, 3), (496.2486679638231, 472.31270903923956, 706.0082650345993, 651.6452568898575, 4), (519.2568470099717, 460.192952807652, 718.366760352592, 629.9179471457672, 5), (543.7074907898475, 449.2703111239226, 731.8918935157353, 610.1920989628705, 6), (561.6501385029603, 440.2818575791472, 741.0883101154895, 593.117846329795, 7), (581.2563152734359, 431.19886981965436, 749.8239687415152, 577.0243830306038, 8), (599.1793985798193, 424.38718754032624, 758.1083172736429, 562.3296999884295, 9), (615.9230138110408, 417.08253780014155, 764.8907976896191, 548.0699133992875, 10), (639.4318991720571, 402.0355349667918, 777.3862468814849, 526.1159163784212, 11), (657.8543104958547, 391.45769957721, 784.3387011947722, 508.61955890238386, 12), (675.8834810243103, 381.61294234866534, 791.7274476758661, 491.75885374213453, 13), (689.772681507781, 374.3900142463493, 797.3767116892657, 478.73143241086086, 14), (700.5085457724108, 365.3979258256239, 802.7082295148143, 466.5801404985809, 15), (710.3601138093815, 356.6355747626154, 805.7094771421984, 453.83355380647515, 16), (717.9112891963267, 351.7622155535561, 807.2398405175996, 444.92188582764413, 17), (725.4514663120794, 349.3137839162823, 808.0853508667167, 437.12500346210936, 18), (732.6516703028406, 348.14204759718604, 809.077882884611, 429.340170121246, 19), (743.6306668943606, 346.8358219832216, 811.5219170385875, 417.54016181916774, 20), (754.8751336447222, 349.0160732001646, 811.143662855264, 406.5348588054907, 21)]\n",
            "Track id 2\n",
            "Track list : [(176.43220150075553, 458.94781011650394, 367.1689174049946, 589.2417387695759, 30), (192.90783794716407, 452.8085148697321, 382.8980151865831, 583.2449042700503, 31), (225.0248060502009, 441.4101153923614, 410.68266208035425, 570.0232492504646, 32), (278.80563303059836, 426.93690091734345, 455.0360803399312, 549.7709860807298, 33), (321.5195459003947, 417.97903341082895, 486.98249174478946, 535.5218509081183, 34), (343.78571364475454, 412.1988264927019, 502.71073563608456, 524.9503137792544, 35), (361.0379994324387, 407.6752430199703, 514.4655569644282, 516.9177739638441, 36), (377.750405329879, 404.35643089691314, 524.3675607651085, 509.68352308739225, 37), (390.05254001664605, 402.74228256387363, 533.3095249910954, 504.76583973457576, 38), (406.77506321123997, 400.23697466216146, 545.3178986885251, 499.5073188420516, 39), (420.84767573618404, 395.8303923499791, 554.2757129523277, 493.6475498822866, 40), (433.2267764241636, 391.7940896428784, 562.8868376834496, 488.42819647877724, 41), (445.1498903276295, 388.3691374315114, 571.2818682124988, 483.61148777180415, 42), (457.3870176092493, 385.2220658037439, 579.8513250410309, 478.8737717042263, 43), (467.94728602629465, 380.5798844170738, 587.0671607351003, 473.11422420150666, 44), (478.46705956588204, 375.75490760399896, 595.8686766740612, 468.53995622007767, 45), (497.1860681130546, 370.52444433445044, 609.5699813882446, 461.4613667434478, 46), (510.08272283105816, 366.25528542378066, 618.3514445618591, 455.59017582124676, 47), (520.0425215880231, 362.73791364768726, 624.0550797134957, 451.0939859265957, 48), (528.7828172620964, 359.52955685986694, 628.7426731090793, 445.7751508964328, 49), (538.29721811888, 356.55275560500854, 634.4771885694406, 440.67214412687235, 50), (554.0560251827599, 350.7846835529581, 646.475184382062, 431.3263130219044, 51)]\n",
            "Track id 3\n",
            "Track list : [(191.16506425541561, 490.11916116794544, 567.9211509255189, 710.1938367327508, 48), (250.18140580181472, 475.16359229700663, 599.9561334009243, 690.3205357076434, 49), (303.1989274814781, 456.44625002514516, 626.2487063731791, 665.2876252654754, 50), (377.8295607166365, 429.64275929228234, 666.1975683027058, 625.18924012871, 51)]\n",
            "Track id 7\n",
            "Track list : [(332.6762885456525, 451.82543010909745, 694.0296277622389, 670.9632405058632, 264), (506.5381473476033, 406.51769958767363, 824.4864081539762, 604.3075193559026, 268), (583.8680191143897, 385.7797167922612, 873.1821995222433, 572.1487377524626, 269), (632.9111554176997, 372.91419444129593, 901.7644928983781, 549.6875566072861, 270), (687.9991930132237, 365.02810218983245, 930.6196308216056, 528.4926110951055, 272), (723.7528701797095, 360.305027444849, 949.1812093247735, 515.6086317564301, 273), (752.0309454913928, 355.5219887783087, 966.2205053363988, 504.55168528629326, 274), (775.9072158266003, 352.7400014020019, 980.477996175736, 495.23758190588524, 275), (826.7939182775751, 333.65418347319815, 1017.1782916599402, 469.9808045138609, 278)]\n",
            "Track id 8\n",
            "Track list : [(248.37306043002943, 408.68668817736716, 563.4350614811724, 634.9621734789973, 379), (287.7480325694684, 403.9164935657539, 584.7305214805426, 617.0767408268525, 380), (320.4392417158568, 395.6941999278047, 604.5990457074433, 596.6176097394134, 381), (353.30687701733984, 388.72943097434614, 624.1033075332338, 580.9368675524629, 382), (392.12638655599545, 380.1212302468189, 647.4839018195219, 561.9166665490512, 383), (425.54554837891106, 371.55364525214776, 666.6591405650299, 545.9292982481226, 384), (454.1836151938675, 366.2423744679779, 682.4647064317892, 534.5681693677612, 385), (494.7751041949561, 355.95792019811256, 704.2924333014369, 516.8778220399114, 386), (536.5115261504277, 341.64198792389817, 728.9343824757427, 494.37137637235463, 387), (563.338658727819, 334.38555226688845, 741.9731024634788, 479.5342897857331, 388), (589.7888532468612, 331.4655013157096, 754.1496062591432, 467.19692254404356, 389), (609.9145506702644, 330.88280476210196, 761.0494274751284, 455.70325307315636, 390), (636.965874033514, 328.52406083220586, 773.9116440221464, 442.5115106208154, 391), (656.6315373025978, 327.82198800111405, 778.6986924829142, 430.2589001384342, 392), (672.4940185655134, 329.39724043304847, 781.5356525824302, 420.61432280867683, 393), (688.191649110043, 331.3841179925558, 783.1274243306884, 411.0458276186942, 394), (703.4286933618682, 332.7081729757105, 784.7512402990785, 400.30940633822166, 395)]\n",
            "Track id 12\n",
            "Track list : [(633.6007236138621, 328.8399804053465, 774.5706584070708, 463.2865724300359, 438), (646.5260443350462, 328.1081625522279, 781.2231793178585, 455.75921191776615, 439), (658.4686283931214, 327.3907697320695, 785.9552761844925, 447.83526624661675, 440), (678.9286861473972, 328.0258902820623, 794.239764693903, 435.54271582807996, 441), (693.1591210200858, 329.17109723008946, 797.3865318547929, 425.2284435118197, 442), (703.053202073839, 330.51915243365187, 796.8141391720776, 416.2584151682998, 443)]\n",
            "Track id 13\n",
            "Track list : [(211.35956980131004, 387.1568453439618, 495.1215404804093, 572.4737436754627, 756), (241.8653748426387, 380.14841202640946, 513.5518049197578, 557.8827638333358, 757), (270.0377477058628, 374.083887913289, 531.0494761070325, 546.4858232168783, 758), (314.2114135787806, 364.4815529916659, 557.3896096629512, 526.9950696793211, 759), (347.02721910468244, 356.99548360356107, 575.3147917915176, 512.046507751462, 760), (402.03105252404515, 343.1056179060781, 612.163515654616, 491.446637395179, 761), (434.29817687488986, 336.88203574240254, 629.2784138399578, 477.2551233068899, 762), (457.29483932807454, 334.26897224549657, 638.8029850910237, 468.62941642730016, 763), (475.4838853803465, 331.6793268085947, 645.0774208107996, 459.95021560658626, 764), (491.37456043321595, 328.01147281883624, 649.522055320585, 450.2682792679904, 765), (504.8200484252228, 326.4010645041219, 653.7285359925955, 443.00181259693943, 766), (520.539500844539, 324.9132308682704, 660.7633232019792, 435.91780976815085, 767), (541.6703567260993, 322.2074964181231, 671.0181774898533, 424.8432559655531, 768), (557.0673308885388, 322.00525772482274, 677.8271726885179, 417.1698188309556, 769)]\n",
            "Track id 16\n",
            "Track list : [(245.3260026910638, 383.2707916233847, 516.3359507631758, 555.9330325913639, 856), (279.33615982636906, 375.2065101963583, 533.0407359496216, 541.1423270719262, 857), (300.7568044814157, 359.0786248334433, 547.2624260606042, 525.8185413481681, 858), (326.86603576257, 355.7115894307948, 561.2686545074203, 517.2244585143159, 859), (352.52007627807507, 352.87752124151865, 576.8525886132362, 508.1449441669759, 860), (380.60981746482133, 348.3934898804779, 591.9559367147456, 497.8128526478953, 861), (406.08930494622314, 344.45884932546835, 605.7375989835655, 489.18198091584964, 862), (428.100918739191, 337.793478718367, 618.2907778393319, 479.9910731766369, 863), (449.79853019526763, 333.41779398155, 628.8643592006731, 471.92927189397784, 864), (468.8295422216544, 328.7117769975469, 638.0279694031266, 463.4310016877636, 865), (485.8472380254665, 324.1170600330643, 645.7927364996125, 455.16097910940897, 866), (501.63510049664, 322.41439224704294, 652.283686728271, 448.0612483667167, 867), (517.3707217224003, 322.2739042298281, 659.9550360165886, 442.8682726929329, 868), (535.8281848587869, 320.6875407104524, 670.0125753956615, 435.1189127692956, 869), (551.9450638267265, 320.6382975298443, 677.8192415734636, 426.9152834357284, 870), (567.1432997800126, 320.62323289140295, 685.5104652133183, 420.373949949535, 871)]\n",
            "Track id 17\n",
            "Track list : [(80.83232884143246, 450.8896534510384, 475.08487899226924, 709.9966411145924, 875), (210.16186077083728, 394.4208619264592, 566.5945230442047, 646.5796336978689, 879), (279.7893507911389, 368.6272102805584, 603.3920141764384, 608.2188375738087, 880), (314.8643968303218, 353.5269625362936, 616.1397883024306, 585.8386332838264, 881), (343.8937720735222, 345.71808044682314, 624.1485031126772, 566.8391366212402, 882), (371.5011761802058, 341.7147819337999, 631.4835800687681, 551.4956434906705, 883), (397.0305228079646, 336.921531113495, 638.8301433319115, 537.9176928431766, 884), (419.572247411163, 332.465084112653, 646.2512360200797, 525.4338197206476, 885), (440.13522583740166, 329.3301734821246, 651.645793090525, 515.2889763763447, 886), (457.736929516236, 324.2997325739602, 656.1876961862409, 502.23801186164917, 887), (477.681409328712, 320.45754027553494, 662.5447809097151, 488.72897466968413, 888), (495.1439088007871, 318.3490075346417, 667.2148745475056, 477.6298856529744, 889), (509.619627078092, 317.94354689272575, 670.1899306402581, 467.6142749704536, 890), (522.756805263978, 317.4432074899531, 674.2245917225458, 459.3128489068072, 891), (534.8352860283563, 316.55409336721914, 676.7351362037983, 449.3005545502632, 892), (547.2718182261304, 315.1394927841397, 679.3579499784452, 438.95201980105736, 893), (559.8159396823936, 315.88615112697823, 678.8911362765449, 428.6853029578077, 894), (571.8908321621765, 318.379183317191, 674.5965519367136, 418.78226381051974, 895), (586.8260445975391, 319.01057767836613, 673.1225379645298, 406.25179183343556, 896)]\n",
            "Track id 18\n",
            "Track list : [(203.26993047597796, 387.20386293026576, 488.8543804401753, 578.3116243907587, 905), (241.15528200714147, 378.9996756226294, 512.6828039578029, 563.5519232674177, 906), (276.21774577928835, 369.9093171643948, 534.2444171665588, 549.7173600543839, 907), (308.9365645165414, 359.75554219402557, 554.5416077070761, 532.6546733372842, 908), (338.85328506573654, 353.104051957588, 573.0655176377057, 519.0600249677332, 909), (390.1034742264597, 343.34229690960626, 605.8320004904971, 499.3199131207874, 910), (425.38565060033125, 336.3291112738382, 625.8000794611523, 485.0703116604892, 911), (454.4974040623482, 332.5251235951956, 638.72807157929, 472.62886345518075, 912), (478.94882490078464, 327.1757764407473, 647.5476891273257, 459.5255978711033, 913), (500.1922922393632, 323.671824428114, 653.808483175658, 447.70930025052377, 914), (520.4941483241563, 322.6788829199486, 661.6638383382373, 439.15318613402314, 915), (541.269121449526, 321.7601573866993, 669.4241966175828, 429.3294645532604, 916), (575.0125873038437, 320.2485285096741, 688.1926553465441, 416.96268429372856, 917), (598.8079197007206, 318.76076244414196, 699.649253171221, 405.99067839121983, 918)]\n",
            "Track id 20\n",
            "Track list : [(857.3516432028557, 399.5556312448294, 972.0461181718988, 514.5167246623906, 1169), (863.6032957395038, 391.44071077264334, 975.8823347301444, 504.84201945104155, 1170), (871.1124777316602, 383.25664832694895, 979.2003589731198, 492.4219891638842, 1171)]\n",
            "Track id 25\n",
            "Track list : [(424.14588502096876, 345.67721799109995, 608.2041455099709, 516.8861188690539, 1283), (451.1995568452055, 336.5493119800494, 623.9069216040164, 498.3815501038911, 1284), (474.34630495041756, 330.6608063825299, 635.1038260228147, 482.44078929263594, 1285), (493.20242099821087, 325.55434200819747, 642.5275853158956, 469.5268246338762, 1286), (520.2357044229109, 319.9501500887543, 655.3785495733955, 451.2769688603503, 1287), (540.5955399196256, 318.81051023868565, 660.5146874420037, 436.7711124835116, 1288), (557.2168732638943, 319.18827947570423, 662.3107456763757, 424.29519051760747, 1289)]\n",
            "Track id 27\n",
            "Track list : [(242.6513360712653, 453.82649529847765, 470.2855848523408, 636.6037113546366, 1518), (293.49108104673667, 446.4839153913945, 507.24212047538185, 618.2371431036972, 1519), (347.0581867964543, 443.40534265370195, 541.2438575251595, 601.3359426728467, 1520), (393.4055783994053, 438.79891906607133, 571.7117643226269, 584.3677145744404, 1521)]\n",
            "Track id 31\n",
            "Track list : [(479.7619330054139, 346.37387825303324, 645.9189967022552, 495.5939006671532, 1609), (504.2700909314731, 327.73079249368476, 662.1489740878317, 475.78708167728195, 1610), (522.3904156726826, 322.8064392756993, 670.8500990125481, 466.63195704253326, 1611), (539.2696971031719, 320.40880371256173, 675.4862292335254, 454.8922184777467, 1612), (554.6470733177975, 320.8657430438275, 680.8959947397218, 444.83113517004415, 1613), (570.6088471651093, 320.9628336650809, 687.7726160869689, 435.77200501857897, 1614), (585.9123605254241, 324.1570762185634, 693.487448472198, 429.07965544733366, 1615), (599.2791469192914, 325.32187575419647, 697.2305787945656, 420.1865648624129, 1616)]\n",
            "Track id 33\n",
            "Track list : [(543.6729459952251, 358.5002050176237, 800.7574237759607, 541.711703896737, 1757), (556.7372954226147, 355.2960106126035, 807.1741642736378, 535.7517678162619, 1758), (570.4796858561001, 350.4653177417778, 815.6830521752725, 529.0129528413147, 1759), (595.7228008047537, 343.15722763967915, 832.2364901172052, 518.920908515447, 1760), (611.4243416529908, 338.8367875728969, 841.0024681427461, 512.2785640689302, 1761), (626.7249711868657, 340.8445835165776, 847.5520707178979, 508.3863903314623, 1762), (640.0833914987643, 341.3844987407027, 855.8510324788408, 504.36751063596205, 1763), (691.8056814143849, 335.5208969673687, 895.0336928620954, 485.23786075928297, 1768), (719.9250659887817, 334.2687195640631, 914.2202932094971, 473.6581659377258, 1769), (737.535276565108, 332.60314285433583, 925.5287336881834, 465.71055804273817, 1770), (756.9153764722639, 327.81206603438636, 940.7936691703487, 456.77739483705716, 1771), (788.5250845029814, 318.97201447700417, 966.4760669787061, 442.42147933889333, 1773), (807.1494987152083, 315.52554402307305, 980.6422765109891, 434.3036025475094, 1774), (819.8441131651232, 310.9258635536861, 992.7978499223213, 427.786972441177, 1775), (838.8429844822462, 308.71308871010064, 1007.5184130625311, 419.6995833925167, 1776)]\n",
            "Track id 37\n",
            "Track list : [(296.05993753065707, 389.43084072499823, 517.2475552926823, 545.4747466997493, 2201), (335.21245049217737, 380.2557402547611, 539.4126092366769, 528.2572375932858, 2202), (378.99666047989683, 370.8128028533199, 564.4792471611531, 509.1495582000938, 2203), (414.63305174420043, 362.6573285278531, 586.8736490813128, 494.399412034292, 2204), (446.74235906231485, 353.9719227381187, 610.2307156974075, 480.54432938111836, 2205), (476.27787843236143, 347.3124073881312, 628.0014744297839, 466.06238040141943, 2206), (501.56971137081274, 340.0287911412681, 641.245257213777, 452.62616459581506, 2207), (538.895710935109, 332.4110907761232, 662.3771397313012, 436.25244193496536, 2208)]\n",
            "Track id 41\n",
            "Track list : [(7.025619893410209, 515.7000371230965, 415.0379563963006, 720.4684827128203, 2377), (22.505450994901253, 494.7426376998627, 452.8235357532466, 717.0983018227108, 2378), (77.01350583933561, 482.3403050782311, 497.04342418372426, 713.8770049664336, 2379), (124.82056944486436, 469.6717076588714, 529.5900479975517, 710.7505594867268, 2380), (166.86867857825118, 458.0106735241072, 554.9685688325466, 707.9314612397272, 2381), (210.44690364777748, 443.1394702560838, 577.5609847368925, 695.0345347186188, 2382), (251.5013324467709, 430.17404796569565, 595.3705395529547, 680.9660572434894, 2383), (291.68138030756467, 416.07641564649276, 612.0558702377725, 659.6378702327543, 2384), (325.0465776307529, 403.8648553891927, 626.8229938922218, 640.1123393722888, 2385), (355.7895016626793, 392.46170601231813, 639.6968337366284, 619.8975768166025, 2386), (390.97864128883816, 380.9301066393201, 655.7939164050085, 599.246566892618, 2387), (420.26722709136914, 371.1265348534638, 665.5196799438241, 580.6636410813336, 2388), (446.2317854004789, 360.8329386432781, 674.0157306376695, 561.387132067036, 2389), (484.07514742709935, 344.72056583992907, 692.0281759656737, 536.9740871673802, 2390), (521.2391833110556, 334.49958035609274, 708.9656508680424, 513.0900520100586, 2391), (557.7329174858858, 326.12494734633765, 725.2446796138549, 488.51388715787164, 2392), (582.1758568450836, 322.7894890015548, 732.0896402797024, 470.5025002742648, 2393), (601.7265167734827, 323.1196852041201, 735.0805847881472, 456.48817049117196, 2394), (616.7140753635861, 324.5362727489096, 734.1709003406363, 444.2524307617475, 2395), (632.8912609341517, 325.5522745494036, 737.476600893528, 432.14405161804166, 2396), (645.0434425467756, 327.00238730803096, 736.4874812076216, 420.75784175263846, 2397), (656.1090886972027, 330.29647970133345, 734.175419209248, 410.537314031863, 2398), (668.262031849436, 333.5952214774044, 733.2295403376183, 400.09990733668724, 2399)]\n",
            "Track id 43\n",
            "Track list : [(320.32505897483856, 451.6671302811118, 576.6989858464642, 654.2556945793677, 2685), (351.31795716948307, 447.38836941844386, 590.4818505381667, 637.9054800796365, 2686), (412.9745073747177, 430.0632858865964, 626.1838817333748, 598.773062289384, 2687), (452.76507517383317, 420.288935367286, 646.658014804517, 573.6701346853649, 2688), (482.4283983508434, 413.3917480672876, 661.3590212205637, 555.8506008693005, 2689), (505.91681856023604, 405.43828969112866, 673.4770127784774, 539.8498923677209, 2690), (542.242796252919, 393.1725339382804, 692.933815071898, 516.8453249307144, 2691), (568.5821070804208, 385.1766823804759, 705.6140465078223, 499.58757968035684, 2692), (594.308634458455, 376.89332599634247, 718.8409042325103, 482.96215811391676, 2693), (615.595013607192, 371.1441664053604, 727.9513484821387, 469.2217961754214, 2694)]\n",
            "Track id 44\n",
            "Track list : [(533.4452042228168, 322.77771735435965, 616.3497946295474, 434.8633307342227, 2695), (546.464478643845, 323.02893943757533, 622.1857905835809, 425.60846340672356, 2696)]\n",
            "Track id 45\n",
            "Track list : [(651.3314282350422, 337.6385941558761, 763.8835793600305, 448.0038537060096, 2698), (663.4170256955773, 337.49011906443303, 764.80234728681, 439.80597863893007, 2699)]\n",
            "Track id 46\n",
            "Track list : [(829.5908348111975, 391.4713636744584, 922.675635247125, 490.10507424695663, 2719), (838.4666980103474, 382.26070337529296, 923.888076453563, 473.34610206432325, 2720), (844.0742086386805, 372.8318695718765, 924.8528790786319, 459.64579672453567, 2721), (849.3176223566658, 366.6496174814251, 925.9987886941811, 449.0660090153555, 2722)]\n",
            "Track id 47\n",
            "Track list : [(890.5120577472657, 399.24381736749257, 988.2698526823953, 500.50605667448866, 2778)]\n",
            "Track id 49\n",
            "Track list : [(861.0153646720296, 492.3718428100903, 976.603835848822, 634.7967054872086, 2809)]\n",
            "Track id 50\n",
            "Track list : [(929.8400184477129, 385.7562535129697, 1014.2927951536393, 497.0236622323729, 2815)]\n",
            "Track id 52\n",
            "Track list : [(46.57562746230718, 527.6494577195097, 436.67177374611356, 716.2253265800018, 3079), (92.80403891455066, 509.71796974499466, 483.19167276332837, 712.1964481175751, 3080), (137.02548974155613, 496.3414995008301, 514.5819077274105, 709.3677840281608, 3081), (177.57323664313566, 483.26291577904834, 539.9751180082744, 705.8341691662016, 3082), (225.65890616624688, 466.37439303347696, 565.1546309378037, 689.2023562540599, 3083), (266.43659454625947, 450.2010275690689, 585.1293398727021, 669.5082535625368, 3084), (345.40066478127704, 418.0304468178289, 632.3669869227158, 624.4291482995897, 3085), (395.1474760795932, 401.89726497701054, 656.4063636581498, 596.9963973380189, 3086), (430.56785425919105, 393.0672792232266, 669.9909049042827, 576.208779654636, 3087), (485.05080465572587, 372.37224546311495, 701.3299177389922, 544.5501122153597, 3088), (518.135664923202, 359.3324066967621, 714.83370450258, 521.9877134303118, 3089), (544.6543378952915, 351.8436059361575, 724.2325784442087, 505.4807939962253, 3090), (569.7874116101538, 346.0638091561377, 733.8042731011807, 489.6202101645531, 3091), (589.1587213232092, 340.4748369220424, 740.283865874494, 474.40405129416854, 3092), (620.9155259297297, 330.3623009961368, 756.8132523517381, 451.49419421654136, 3093), (649.5997361227289, 326.4504163210647, 769.8956165444349, 433.50001227525433, 3094)]\n",
            "Track id 54\n",
            "Track list : [(274.2879031699229, 478.8262711815959, 678.2055807552813, 706.8132046001485, 3282), (326.9708712996146, 464.8290944512006, 710.5939689087279, 702.654577947541, 3283), (377.9867088074697, 452.1353336288745, 731.4977033660525, 694.131220359004, 3284), (425.2824657711319, 436.8832204467067, 748.1075709920044, 674.4722447441086, 3285), (469.66815043683295, 420.8797067504763, 765.9697641129023, 651.2120637184803, 3286), (529.8973791534632, 392.48635522431005, 786.1798112176836, 606.7968062843149, 3287), (571.12406246769, 376.8743944291392, 796.0165578555273, 577.307410473997, 3288), (613.1818814503948, 361.5309221869089, 806.5731318494978, 544.4122222349363, 3289), (644.1224703036361, 353.4616776588417, 810.2875217660734, 519.2265543137452, 3290), (674.7011508626318, 345.9321786193619, 813.8860167021536, 490.44339300840426, 3291), (712.8230336027248, 336.3212736118532, 815.9265095581998, 446.6957061854204, 3292)]\n",
            "Track id 60\n",
            "Track list : [(769.331305762021, 343.1168555993728, 925.7350634584136, 459.7531724625434, 3660), (786.6094140755539, 340.8876345534464, 932.831677640709, 448.977808762013, 3661), (795.1462936870289, 341.63480756099324, 931.7810608405512, 443.37968502175596, 3662), (801.289678720084, 342.87973528765895, 924.5860198576039, 435.9039353829985, 3663)]\n",
            "Track id 61\n",
            "Track list : [(223.84074675167403, 494.6969569397839, 407.687605710507, 643.7527704188165, 3922), (277.255414197974, 472.2702450141419, 443.6746843106108, 609.3731735273986, 3923), (312.7910075721767, 458.99477719150855, 467.961732109987, 587.7991594852517, 3924), (357.9490270668051, 439.69107474097495, 499.73257926533483, 559.4749367320618, 3925), (407.63344661547694, 420.37775999828614, 535.6898186875437, 529.5973059999379, 3926), (438.34217550570503, 410.4594979729389, 554.5736251990718, 511.7260802538722, 3927), (461.3341906884486, 402.0490284272935, 567.1355328375377, 495.7986876670507, 3928), (482.24267650051564, 395.7444139827823, 579.7009363417064, 482.20175179397, 3929), (501.09006171362944, 388.6925385682854, 590.520284577535, 469.48509967818563, 3930), (519.0345267264756, 383.3075525630211, 601.0769898125359, 459.00481583833187, 3931), (534.071925751899, 378.696242518405, 610.3356083373669, 449.75050162157964, 3932), (551.3519930604474, 370.52798742865866, 623.2212888805533, 438.74717332882415, 3933)]\n",
            "Track id 63\n",
            "Track list : [(489.6390227189647, 411.6968311619206, 636.3527256265572, 548.503863400207, 4031)]\n",
            "Track id 64\n",
            "Track list : [(610.7083323827186, 355.677775591153, 706.0887933536955, 451.06302948892517, 4035), (625.4614263054876, 350.48591060760845, 715.6290292734387, 440.94738936199536, 4036), (641.6288015998847, 342.6631733995078, 726.0445291504117, 427.5542624020706, 4037), (650.5966831317356, 339.06104206139685, 725.8977867097946, 417.3325864872577, 4038)]\n",
            "Track id 65\n",
            "Track list : [(106.52209311698542, 497.55483874456417, 541.1717341436256, 712.8402076018709, 4261), (154.42412461913923, 486.685388928293, 572.1551986450742, 710.2860388074658, 4262), (225.4002061029027, 463.2545053046272, 619.1280383509363, 692.7909806966809, 4263), (278.87126435745006, 446.3605845709054, 644.4920049031435, 675.5601730180261, 4264), (318.43973645721184, 432.18248575475604, 660.9722918538207, 661.5481772180356, 4265), (353.43525227983025, 419.5668606566945, 675.0881167927076, 646.032364330945, 4266), (384.46475145612817, 409.0569122846063, 686.2745233386458, 628.4461749525199, 4267), (413.7896503135089, 398.178461125053, 695.6066441655598, 610.5787229085686, 4268), (440.4839137071557, 390.3613811870283, 704.5078879985921, 596.1028340881775, 4269), (472.3747254438907, 378.1620364509656, 717.9297104278488, 575.752909091422, 4270), (524.3001721372302, 358.75687361476173, 745.5598343184347, 543.5505103791585, 4271), (557.8968383303506, 346.03795321091303, 758.0903861879294, 520.0688322407266, 4272), (582.4690213630035, 338.1900965931664, 764.4577998247116, 502.18592257988195, 4273), (611.5857899888927, 331.0033499275602, 775.145639586154, 481.6629199071913, 4274), (662.8582494863114, 322.9739150520476, 799.971786923387, 452.02286339409034, 4275), (690.6737230153424, 323.67955802640796, 803.5542065273012, 432.2084642625526, 4276), (711.6942455099933, 328.8110113724073, 802.9477859423852, 416.9443063672172, 4277)]\n",
            "Track id 66\n",
            "Track list : [(400.65994957751684, 433.30752809710077, 672.3542005731412, 640.428043926698, 4315), (426.6186752024897, 425.73480951245296, 688.074904997916, 624.3986646086729, 4316), (466.63570004684766, 410.67134387872767, 710.442972499718, 596.7424284016669, 4317), (495.35953996706286, 403.6119415587496, 721.658158385666, 578.7362285242682, 4318), (521.3374770964303, 395.72759682572666, 733.6380672954983, 560.7645125668026, 4319), (553.2272923220778, 381.27579231385647, 750.0965217891003, 538.1875210901833, 4320), (576.3512159785377, 372.58525632213855, 759.5054207988898, 521.4728634344508, 4321), (594.6484593669637, 365.2497046449645, 766.0316416848867, 508.36717853500147, 4322), (611.3948159234533, 361.0574000303716, 772.0687586510373, 497.26611371979925, 4323), (625.0912177025656, 356.26540886871, 777.2098017189434, 487.30327647380534, 4324), (639.0997729023208, 351.9094924796847, 782.6717663543801, 479.0407968388149, 4325), (654.1592984057478, 346.92814134234084, 788.0844092703327, 466.87627105093395, 4326), (666.6971574815802, 343.23464238283395, 791.2066224927487, 456.3010233271011, 4327), (677.4296793258557, 340.46455554293414, 793.7400121975916, 447.83512195113565, 4328), (686.6110959570826, 338.6597809965127, 795.6861170521081, 441.48636446664, 4329), (695.3738095766741, 337.68115917282296, 795.3504592216768, 434.12496574980185, 4330), (707.3539118952135, 338.34208672286917, 794.782693105718, 425.01470719839807, 4331), (718.3431068861024, 339.4954738230688, 793.7793732049137, 416.6474074857057, 4332), (730.4659197558542, 339.84015146762835, 795.082892240257, 406.2526641209376, 4333)]\n",
            "Track id 68\n",
            "Track list : [(84.35715390044086, 462.563741543096, 496.78547863578217, 712.6920086123228, 4447), (148.74421126420734, 447.66712203993933, 534.5179987678811, 697.4797508453605, 4448), (203.6376740731843, 433.7806956073208, 562.8215629724588, 675.3978356102592, 4449), (255.9478634831862, 419.1382862179586, 590.1569101948776, 655.2064881401624, 4450), (304.34319877793297, 400.2136298259783, 618.3070133514495, 626.4822058177496, 4451), (348.4336449886846, 386.3703320801631, 642.2861628326405, 604.1272619692339, 4452), (389.8301791851762, 372.6739509413264, 664.0596645643766, 580.3588171937793, 4453), (427.9288093392189, 361.9512970930662, 681.4672738315725, 559.2226335369886, 4454), (470.3474923442293, 347.5325583935308, 703.9356395813525, 535.1493226531304, 4455), (504.9541999231219, 340.16042990141716, 719.8575729717179, 517.5314308105096, 4456), (534.3510614686304, 334.22527021921826, 731.1103594685096, 500.8369594323484, 4457), (560.4671991221328, 327.1301634356564, 739.4539013332203, 482.8251204286223, 4458), (585.377711168267, 324.5670296839121, 750.134263938607, 469.1918229067612, 4459), (607.4797292935531, 324.28013737201854, 758.2701639007738, 457.24128971728965, 4460), (628.4330889314314, 324.32282753251405, 765.0076634904702, 445.0695094880131, 4461), (650.0281971953403, 326.8841722932102, 772.2346176619948, 434.2895889229791, 4462), (673.196163155373, 325.9686499791168, 780.3925340093439, 419.87625722232326, 4463), (690.4076076039345, 328.706065346819, 783.0953391743911, 408.24010844562457, 4464), (706.0285634053002, 327.72907049399635, 783.8147874791789, 394.85302674781985, 4465)]\n",
            "Track id 74\n",
            "Track list : [(556.5929127931962, 362.68582755326634, 739.6462320467223, 533.8105632226111, 5237), (585.0826603564545, 352.8240131943598, 752.9648835798986, 515.15799084484, 5238), (607.9435733177163, 344.5909685758738, 763.0303280008118, 497.47186758646995, 5239), (627.177311093022, 341.5389568214665, 769.3573403050426, 483.7297063367755, 5240), (645.9679006528311, 338.35422801415353, 775.3917966810536, 468.0322676520521, 5241), (661.4041285349424, 334.9662337342809, 779.9632251384012, 453.69463746972053, 5242), (677.5413710310826, 333.5008101768991, 782.3087040342754, 439.7625232948419, 5243), (701.7622254620771, 338.0104076471528, 782.2321705358388, 421.2737002143073, 5244)]\n",
            "Track id 77\n",
            "Track list : [(919.7129063371173, 375.39915968219583, 1013.7276161956235, 480.9359920938343, 5550)]\n",
            "Track id 78\n",
            "Track list : [(198.38343260015827, 503.6923165453419, 473.99822598094636, 685.4471686340693, 5657), (270.10944465179745, 474.9833297808533, 518.2787132870276, 648.5745898131728, 5658), (317.5294592572875, 457.7860708606303, 542.9933121836227, 621.5613252850864, 5659), (362.167866837502, 439.6583618833856, 569.3334801449223, 595.7099967426457, 5660), (395.30328038177345, 426.4047308590488, 587.5433530612679, 574.8018913063884, 5661), (425.6208965203246, 414.15808761839475, 603.445678531978, 554.1545964687842, 5662), (464.95734125002923, 398.1446389155011, 627.1367099349518, 529.4853860527538, 5663), (493.85003005183415, 385.4385036032435, 643.3444820225067, 510.06813115358455, 5664), (516.7687640163169, 367.8291150079089, 656.4056153821386, 491.31154151535264, 5665), (535.1305607512701, 353.5233690574912, 667.5113886711534, 477.6133869276009, 5666), (566.4007500049993, 343.60416697509714, 686.0022386226497, 458.6252068164834, 5667), (587.4795468624375, 341.79725684655676, 694.6503842496502, 447.6480604884219, 5668), (605.357358698327, 341.357008981777, 702.3687860599865, 437.9815965452023, 5669), (622.1522439033206, 338.64759521192616, 710.4051615802477, 426.8787250031204, 5670), (636.0618379664562, 336.2891148834486, 715.9029527387808, 416.5676018599109, 5671)]\n",
            "Track id 80\n",
            "Track list : [(244.98707603718086, 399.6229093621301, 499.16994540503765, 573.2087669638458, 5816), (288.80250020398, 391.639786135244, 526.7085885647715, 556.1476135002159, 5817), (322.92118884852323, 381.6031952458886, 548.071098942954, 539.7242014589991, 5818), (361.5689694353616, 372.54178667511786, 571.6703494926065, 523.3274201069368, 5819), (415.95502633116666, 360.20714507068664, 607.7056456629174, 500.7747952332076, 5820), (452.81455417103064, 351.0925623733779, 627.6906130698691, 482.7664679797911, 5821), (483.8295474886669, 343.5688268125268, 645.581380337842, 468.01042692307726, 5822), (508.47321000445663, 337.6331384391659, 657.6902196710166, 456.09108535535177, 5823), (542.2958157136743, 330.31974959586864, 673.7070152449107, 439.77404488958086, 5824)]\n",
            "Track id 81\n",
            "Track list : [(1091.4564080805922, 426.9152596985406, 1182.7144368347108, 547.3205417747508, 5927), (1093.9343120461338, 422.7802675846997, 1184.6233008364213, 540.4033780714235, 5928), (1095.3095684039322, 420.10358548543803, 1185.194041213697, 534.8523569565714, 5929), (1097.1136247487275, 417.57212090687204, 1186.740031867825, 530.7523101220391, 5930), (1099.3125413244195, 412.8938600629803, 1189.7550983742706, 525.8265284809431, 5931), (1099.9375879526453, 410.4125897161276, 1190.8584746036206, 522.4777409602857, 5932), (1104.1708003932565, 402.2704002653696, 1197.282409785381, 514.6019288332246, 5961), (1103.5560831453702, 400.09465400802503, 1198.321552183668, 511.20789492013273, 5964), (1104.0103135932277, 399.8960121354013, 1199.1972898100494, 509.023477899266, 5968)]\n"
          ],
          "name": "stdout"
        }
      ]
    },
    {
      "cell_type": "code",
      "metadata": {
        "id": "jJibvnHA3xSq"
      },
      "source": [
        "# moto_vector_list: list of tuples (first_point, last_point, last_frame_id)\n",
        "# list of moto movement vector and the last frame_id when it is still in the ROI.\n",
        "\n",
        "moto_vector_list = []\n",
        "for tracker_id, tracker_list in track_dict.items():\n",
        "  # print(track_id)\n",
        "  if len(tracker_list) > 1:\n",
        "    first = tracker_list[0]\n",
        "    last = tracker_list[-1]\n",
        "    first_point = ((first[2] - first[0])/2, (first[3] - first[1])/2)\n",
        "    last_point = ((last[2] - last[0])/2, (last[3] - last[1])/2)\n",
        "    moto_vector_list.append((first_point, last_point, last[4]))\n",
        "    a = [first_point, last_point, last[4]]\n",
        "    # print(a)\n",
        "    \n",
        "# print(moto_vector_list)  \n",
        "# print(type(moto_vector_list))"
      ],
      "execution_count": null,
      "outputs": []
    },
    {
      "cell_type": "code",
      "metadata": {
        "id": "Foy99tKg3xSt"
      },
      "source": [
        "def cosin_similarity(a2d, b2d):\n",
        "  \n",
        "  a = np.array((a2d[1][0] - a2d[0][0], a2d[1][1 ]- a2d[0][1]))\n",
        "  b = np.array((b2d[1][0] - b2d[0][1], b2d[1][1] - b2d[1][0]))\n",
        "  return np.dot(a, b)/(np.linalg.norm(a)*np.linalg.norm(b))\n",
        "\n"
      ],
      "execution_count": null,
      "outputs": []
    },
    {
      "cell_type": "code",
      "metadata": {
        "id": "_c576pYuNaQx"
      },
      "source": [
        "MOTO_CLASS_ID = 4"
      ],
      "execution_count": null,
      "outputs": []
    },
    {
      "cell_type": "code",
      "metadata": {
        "id": "NCjVR7a9TxaT"
      },
      "source": [
        " # Đếm số lương\n",
        " "
      ],
      "execution_count": null,
      "outputs": []
    },
    {
      "cell_type": "markdown",
      "metadata": {
        "id": "WLkDtcLPT4Uk"
      },
      "source": [
        "Phát hiện MOI tương ứng với mỗi xe"
      ]
    },
    {
      "cell_type": "code",
      "metadata": {
        "id": "-Q9yaFbq3xSv"
      },
      "source": [
        "def counting_moi(paths, moto_vector_list):\n",
        "  \"\"\"\n",
        "  Args:\n",
        "    paths: List of MOI - (first_point, last_point)\n",
        "    moto_vector_list: List of tuples (first_point, last_point, last_frame_id) \n",
        "  \n",
        "  Returns:\n",
        "    A list of tuples (frame_id, movement_id, vehicle_class_id)\n",
        "  \"\"\"\n",
        "  moi_detection_list = []\n",
        "  for moto_vector in moto_vector_list:\n",
        "    max_cosin = -2\n",
        "    movement_id = ''\n",
        "    last_frame = 0\n",
        "    for movement_label, movement_vector in paths.items():\n",
        "      cosin = cosin_similarity(movement_vector, moto_vector)\n",
        "      if cosin > max_cosin:\n",
        "        max_cosin = cosin\n",
        "        movement_id = movement_label\n",
        "        last_frame = moto_vector[2]\n",
        "\n",
        "    moi_detection_list.append((last_frame, movement_id, MOTO_CLASS_ID))\n",
        "  return moi_detection_list\n"
      ],
      "execution_count": null,
      "outputs": []
    },
    {
      "cell_type": "code",
      "metadata": {
        "id": "6uPXjMdpJFDk"
      },
      "source": [
        "\n",
        "moto_moi_detections = counting_moi(paths, moto_vector_list)"
      ],
      "execution_count": null,
      "outputs": []
    },
    {
      "cell_type": "code",
      "metadata": {
        "id": "1xsPexKFEssj",
        "colab": {
          "base_uri": "https://localhost:8080/"
        },
        "outputId": "078f2bc5-dabb-4a00-87e9-141f5d33d475"
      },
      "source": [
        "print(moto_moi_detections)"
      ],
      "execution_count": null,
      "outputs": [
        {
          "output_type": "stream",
          "text": [
            "[(21, '1', 4), (51, '1', 4), (51, '1', 4), (278, '1', 4), (395, '1', 4), (443, '1', 4), (769, '1', 4), (871, '1', 4), (896, '1', 4), (918, '1', 4), (1171, '1', 4), (1289, '1', 4), (1521, '1', 4), (1616, '1', 4), (1776, '1', 4), (2208, '1', 4), (2399, '1', 4), (2694, '1', 4), (2696, '1', 4), (2699, '1', 4), (2722, '1', 4), (3094, '1', 4), (3292, '1', 4), (3663, '1', 4), (3933, '1', 4), (4038, '1', 4), (4277, '1', 4), (4333, '1', 4), (4465, '1', 4), (5244, '1', 4), (5671, '1', 4), (5824, '1', 4), (5968, '1', 4)]\n"
          ],
          "name": "stdout"
        }
      ]
    },
    {
      "cell_type": "markdown",
      "metadata": {
        "id": "jcT8UqGTfnRC"
      },
      "source": [
        "# Xuất kết quả theo định dạng nộp\n"
      ]
    },
    {
      "cell_type": "code",
      "metadata": {
        "id": "UnIH3nx8Pw28",
        "colab": {
          "base_uri": "https://localhost:8080/"
        },
        "outputId": "b4df5ba8-0416-4d84-feec-fdd339a0f5c1"
      },
      "source": [
        "ls"
      ],
      "execution_count": null,
      "outputs": [
        {
          "output_type": "stream",
          "text": [
            "README.md  result.txt  \u001b[0m\u001b[01;34msample_data\u001b[0m/  \u001b[01;34msolution_baseline\u001b[0m/\n"
          ],
          "name": "stdout"
        }
      ]
    },
    {
      "cell_type": "code",
      "metadata": {
        "id": "0pkQmyyfamYG",
        "colab": {
          "base_uri": "https://localhost:8080/"
        },
        "outputId": "377b4312-bac1-4dd8-9a9b-aabbba01164b"
      },
      "source": [
        "%cd '/content/drive/My Drive/Result'"
      ],
      "execution_count": null,
      "outputs": [
        {
          "output_type": "stream",
          "text": [
            "/content/drive/My Drive/Result\n"
          ],
          "name": "stdout"
        }
      ]
    },
    {
      "cell_type": "code",
      "metadata": {
        "id": "PwUJ8hgn3gs_"
      },
      "source": [
        "\n",
        "result_filename = 'result_cam_06_class4_ver_2.txt'\n",
        "video_id = 'cam_01'\n",
        "with open(result_filename, 'w') as result_file:\n",
        "  for frame_id, movement_id, vehicle_class_id in moto_moi_detections:\n",
        "    result_file.write('{} {} {} {}\\n'.format(video_id, frame_id  + 1, movement_id, vehicle_class_id))\n"
      ],
      "execution_count": null,
      "outputs": []
    },
    {
      "cell_type": "code",
      "metadata": {
        "id": "gS16AQoA3xS0"
      },
      "source": [
        "result_filename = 'result_cam_06_class4.txt'\n",
        "video_id = 'cam_01'\n",
        "with open(result_filename, 'w') as result_file:\n",
        "  for frame_id, movement_id, vehicle_class_id in moto_moi_detections:\n",
        "    result_file.write('{} {} {} {}\\n'.format(video_id, frame_id , movement_id, vehicle_class_id))"
      ],
      "execution_count": null,
      "outputs": []
    },
    {
      "cell_type": "code",
      "metadata": {
        "id": "Gf6teHDpPtPq"
      },
      "source": [
        ""
      ],
      "execution_count": null,
      "outputs": []
    }
  ]
}